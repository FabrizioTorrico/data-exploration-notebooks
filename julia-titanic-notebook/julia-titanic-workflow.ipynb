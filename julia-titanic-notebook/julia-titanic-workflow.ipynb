{
  "cells": [
    {
      "cell_type": "raw",
      "metadata": {},
      "source": [
        "---\n",
        "title: \"Análisis Estadístico y ML del Titanic\"\n",
        "author: \"Fabrizio Torrico\"\n",
        "date: \"05/07/2025\"\n",
        "format:\n",
        "  html:\n",
        "    code-fold: false\n",
        "    code-tools: true\n",
        "    code-copy: true\n",
        "    toc: true\n",
        "    toc-depth: 3\n",
        "    fig-width: 10\n",
        "    fig-height: 6\n",
        "    embed-resources: true\n",
        "    error: true\n",
        "    warning: true\n",
        "    message: true\n",
        "    html-math-method: mathjax\n",
        "    include-in-header: |\n",
        "      <script src=\"https://public.tableau.com/javascripts/api/viz_v1.js\"></script>\n",
        "engine: julia\n",
        "\n",
        "---"
      ]
    },
    {
      "cell_type": "markdown",
      "metadata": {},
      "source": [
        "<img src=\"http://data.freehdw.com/ships-titanic-vehicles-best.jpg\"  Width=\"800\">\n",
        "\n",
        "<a id=\"introduction\" ></a><br>\n",
        "This kernel is for all aspiring data scientists to learn from and to review their knowledge. We will have a detailed statistical analysis of Titanic data set along with Machine learning model implementation. I am super excited to share my first kernel with the Kaggle community. As I go on in this journey and learn new topics, I will incorporate them with each new updates. So, check for them and please <b>leave a comment</b> if you have any suggestions to make this kernel better!! Going back to the topics of this kernel, I will do more in-depth visualizations to explain the data, and the machine learning classifiers will be used to predict passenger survival status.\n",
        "\n",
        "\n",
        "NOTE:\n",
        "\n",
        "- This is a julia translation\n",
        "- If you are reading this on github, I recommend you read this on <a href=\"https://www.kaggle.com/masumrumi/a-statistical-analysis-ml-workflow-of-titanic\">kaggle</a>\n",
        "- Follow me on github: \n",
        "\n",
        "# Kernel Goals\n",
        "\n",
        "<a id=\"aboutthiskernel\"></a>\n",
        "\n",
        "---\n",
        "\n",
        "There are three primary goals of this kernel.\n",
        "\n",
        "- <b>Do a statistical analysis</b> of how some group of people was survived more than others.\n",
        "- <b>Do an exploratory data analysis(EDA)</b> of titanic with visualizations and storytelling.\n",
        "- <b>Predict</b>: Use machine learning classification models to predict the chances of passengers survival.\n",
        "\n",
        "P.S. If you want to learn more about regression models, try this [kernel](https://www.kaggle.com/masumrumi/a-stats-analysis-and-ml-workflow-of-house-pricing/edit/run/9585160).\n",
        "\n",
        "# Part 1: Importing Necessary Libraries and datasets\n",
        "\n",
        "---\n",
        "\n",
        "<a id=\"import_libraries**\"></a>\n",
        "\n",
        "## 1a. Loading libraries\n",
        "\n",
        "Python is a fantastic language with a vibrant community that produces many amazing libraries. I am not a big fan of importing everything at once for the newcomers. So, I am going to introduce a few necessary libraries for now, and as we go on, we will keep unboxing new libraries when it seems appropriate."
      ]
    },
    {
      "cell_type": "code",
      "metadata": {},
      "source": [
        "using Pkg\n",
        "Pkg.activate(\".\")\n",
        "Pkg.add([\"IJulia\", \"DataFrames\", \"CSV\", \"CairoMakie\", \"StatsBase\",\n",
        "         \"Statistics\", \"MLJ\", \"MLJModels\", \"MLJBase\", \"HypothesisTests\",\n",
        "         \"Distributions\", \"Missings\", \"CategoricalArrays\", \"AlgebraOfGraphics\", \"Chain\"])"
      ],
      "execution_count": null,
      "outputs": []
    },
    {
      "cell_type": "code",
      "metadata": {
        "_cell_guid": "80643cb5-64f3-4180-92a9-2f8e83263ac6",
        "_kg_hide-input": true,
        "_uuid": "33d54abf387474bce3017f1fc3832493355010c0",
        "tags": []
      },
      "source": [
        "import DataFrames as DF\n",
        "import CSV\n",
        "import CairoMakie as Makie\n",
        "import AlgebraOfGraphics as AoG\n",
        "import Statistics as Stats\n",
        "import StatsBase\n",
        "import Chain: @chain\n",
        "import Random: shuffle\n",
        "import IJulia\n"
      ],
      "execution_count": null,
      "outputs": []
    },
    {
      "cell_type": "code",
      "metadata": {},
      "source": [
        "readdir(\"./input/\")"
      ],
      "execution_count": null,
      "outputs": []
    },
    {
      "cell_type": "markdown",
      "metadata": {},
      "source": [
        "## 1b. Loading Datasets\n",
        "\n",
        "<a id=\"load_data\"></a>\n",
        "\n",
        "---\n",
        "\n",
        "After loading the necessary modules, we need to import the datasets. Many of the business problems usually come with a tremendous amount of messy data. We extract those data from many sources. I am hoping to write about that in a different kernel. For now, we are going to work with a less complicated and quite popular machine learning dataset."
      ]
    },
    {
      "cell_type": "code",
      "metadata": {},
      "source": [
        "## Importing the datasets\n",
        "using CSV\n",
        "\n",
        "train = CSV.read(\"./input/train.csv\", DF.DataFrame)\n",
        "test = CSV.read(\"./input/test.csv\", DF.DataFrame);"
      ],
      "execution_count": null,
      "outputs": []
    },
    {
      "cell_type": "markdown",
      "metadata": {},
      "source": [
        "You are probably wondering why two datasets? Also, Why have I named it \"train\" and \"test\"? To explain that I am going to give you an overall picture of the supervised machine learning process.\n",
        "\n",
        "\"Machine Learning\" is simply \"Machine\" and \"Learning\". Nothing more and nothing less. In a supervised machine learning process, we are giving machine/computer/models specific inputs or data(text/number/image/audio) to learn from aka we are training the machine to learn certain aspects based on the data and the output. Now, how can we determine that machine is actually learning what we are try to teach? That is where the test set comes to play. We withhold part of the data where we know the output/result of each datapoints, and we use this data to test the trained models. We then compare the outcomes to determine the performance of the algorithms. If you are a bit confused thats okay. I will explain more as we keep reading. Let's take a look at sample datasets."
      ]
    },
    {
      "cell_type": "code",
      "metadata": {},
      "source": [
        "DF.first(train, 5)"
      ],
      "execution_count": null,
      "outputs": []
    },
    {
      "cell_type": "code",
      "metadata": {},
      "source": [
        "@chain train begin\n",
        "    DF.dropmissing(:Age) # Drop rows with missing Age\n",
        "    DF.groupby(:Sex)\n",
        "    DF.combine(:Age => minimum => :MinAge)\n",
        "end"
      ],
      "execution_count": null,
      "outputs": []
    },
    {
      "cell_type": "code",
      "metadata": {},
      "source": [
        "DF.describe(train, :eltype)"
      ],
      "execution_count": null,
      "outputs": []
    },
    {
      "cell_type": "markdown",
      "metadata": {},
      "source": [
        "## 1c. A Glimpse of the Datasets.\n",
        "\n",
        "<a id=\"glimpse\"></a>\n",
        "\n",
        "---\n",
        "\n",
        "# Train Set"
      ]
    },
    {
      "cell_type": "code",
      "metadata": {},
      "source": [
        "DF.first(train[shuffle(1:DF.nrow(train))[1:5], :], 5)"
      ],
      "execution_count": null,
      "outputs": []
    },
    {
      "cell_type": "markdown",
      "metadata": {},
      "source": [
        "# Test Set"
      ]
    },
    {
      "cell_type": "code",
      "metadata": {},
      "source": [
        "DF.first(test[shuffle(1:DF.nrow(test))[1:5], :], 5)"
      ],
      "execution_count": null,
      "outputs": []
    },
    {
      "cell_type": "markdown",
      "metadata": {},
      "source": [
        "This is a sample of train and test dataset. Lets find out a bit more about the train and test dataset."
      ]
    },
    {
      "cell_type": "code",
      "metadata": {},
      "source": [
        "println(\"The shape of the train data is (row, column): $(size(train))\")\n",
        "println(\"Train dataset info:\")\n",
        "DF.describe(train)\n",
        "\n",
        "\n",
        "println(\"The shape of the test data is (row, column): $(size(test))\")\n",
        "println(\"Test dataset info:\")\n",
        "DF.describe(test)"
      ],
      "execution_count": null,
      "outputs": []
    },
    {
      "cell_type": "markdown",
      "metadata": {},
      "source": [
        "## 1d. About This Dataset\n",
        "\n",
        "<a id=\"aboutthisdataset\"></a>\n",
        "\n",
        "---\n",
        "\n",
        "The data has split into two groups:\n",
        "\n",
        "- training set (train.csv)\n",
        "- test set (test.csv)\n",
        "\n",
        "**_The training set includes our target variable(dependent variable), passenger survival status_** (also known as the ground truth from the Titanic tragedy) along with other independent features like gender, class, fare, and Pclass.\n",
        "\n",
        "The test set should be used to see how well our model performs on unseen data. When we say unseen data, we mean that the algorithm or machine learning models have no relation to the test data. We do not want to use any part of the test data in any way to modify our algorithms; Which are the reasons why we clean our test data and train data separately. **_The test set does not provide passengers survival status_**. We are going to use our model to predict passenger survival status.\n",
        "\n",
        "Now let's go through the features and describe a little. There is a couple of different type of variables, They are...\n",
        "\n",
        "---\n",
        "\n",
        "**Categorical:**\n",
        "\n",
        "- **Nominal**(variables that have two or more categories, but which do not have an intrinsic order.)\n",
        "  > - **Cabin**\n",
        "  > - **Embarked**(Port of Embarkation)\n",
        "            C(Cherbourg)\n",
        "            Q(Queenstown)\n",
        "            S(Southampton)\n",
        "\n",
        "- **Dichotomous**(Nominal variable with only two categories)\n",
        "  > - **Sex**\n",
        "            Female\n",
        "            Male\n",
        "- **Ordinal**(variables that have two or more categories just like nominal variables. Only the categories can also be ordered or ranked.)\n",
        "  > - **Pclass** (A proxy for socio-economic status (SES))\n",
        "            1(Upper)\n",
        "            2(Middle)\n",
        "            3(Lower)\n",
        "\n",
        "---\n",
        "\n",
        "**Numeric:**\n",
        "\n",
        "- **Discrete**\n",
        "  > - **Passenger ID**(Unique identifing # for each passenger)\n",
        "  > - **SibSp**\n",
        "  > - **Parch**\n",
        "  > - **Survived** (Our outcome or dependent variable)\n",
        "            0\n",
        "            1\n",
        "- **Continous**\n",
        "  > - **Age**\n",
        "  > - **Fare**\n",
        "\n",
        "---\n",
        "\n",
        "**Text Variable**\n",
        "\n",
        "> - **Ticket** (Ticket number for passenger.)\n",
        "> - **Name**( Name of the passenger.)\n",
        "\n",
        "## 1e. Tableau Visualization of the Data\n",
        "\n",
        "<a id='tableau_visualization'></a>\n",
        "\n",
        "---\n",
        "\n",
        "I have incorporated a tableau visualization below of the training data. This visualization...\n",
        "\n",
        "- is for us to have an overview and play around with the dataset.\n",
        "- is done without making any changes(including Null values) to any features of the dataset.\n",
        "\n",
        "---\n",
        "\n",
        "Let's get a better perspective of the dataset through this visualization.\n",
        "\n",
        "```{=html}\n",
        "<div class='tableauPlaceholder' id='viz1516349898238' style='position: relative'><noscript><a href='#'><img alt='An Overview of Titanic Training Dataset ' src='https:&#47;&#47;public.tableau.com&#47;static&#47;images&#47;Ti&#47;Titanic_data_mining&#47;Dashboard1&#47;1_rss.png' style='border: none' /></a></noscript><object class='tableauViz'  style='display:none;'><param name='host_url' value='https%3A%2F%2Fpublic.tableau.com%2F' /> <param name='embed_code_version' value='3' /> <param name='site_root' value='' /><param name='name' value='Titanic_data_mining&#47;Dashboard1' /><param name='tabs' value='no' /><param name='toolbar' value='yes' /><param name='static_image' value='https:&#47;&#47;public.tableau.com&#47;static&#47;images&#47;Ti&#47;Titanic_data_mining&#47;Dashboard1&#47;1.png' /> <param name='animate_transition' value='yes' /><param name='display_static_image' value='yes' /><param name='display_spinner' value='yes' /><param name='display_overlay' value='yes' /><param name='display_count' value='yes' /><param name='filter' value='publish=yes' /></object></div>                <script type='text/javascript'>                    var divElement = document.getElementById('viz1516349898238');                    var vizElement = divElement.getElementsByTagName('object')[0];                    vizElement.style.width='100%';vizElement.style.height=(divElement.offsetWidth*0.75)+'px';                    var scriptElement = document.createElement('script');                    scriptElement.src = 'https://public.tableau.com/javascripts/api/viz_v1.js';                    vizElement.parentNode.insertBefore(scriptElement, vizElement);                </script>\n",
        "```\n",
        "\n",
        "We want to see how the left vertical bar changes when we filter out unique values of certain features. We can use multiple filters to see if there are any correlations among them. For example, if we click on **upper** and **Female** tab, we would see that green color dominates the bar with a ratio of 91:3 survived and non survived female passengers; a 97% survival rate for females. We can reset the filters by clicking anywhere in the whilte space. The age distribution chart on top provides us with some more info such as, what was the age range of those three unlucky females as the red color give away the unsurvived once. If you would like to check out some of my other tableau charts, please click [here.](https://public.tableau.com/profile/masum.rumi#!/)\n",
        "\n",
        "# Part 2: Overview and Cleaning the Data\n",
        "\n",
        "<a id=\"cleaningthedata\"></a>\n",
        "\n",
        "---\n",
        "\n",
        "## 2a. Overview\n",
        "\n",
        "Datasets in the real world are often messy, However, this dataset is almost clean. Lets analyze and see what we have here."
      ]
    },
    {
      "cell_type": "code",
      "metadata": {
        "_cell_guid": "bf19c831-fbe0-49b6-8bf8-d7db118f40b1",
        "_kg_hide-input": true,
        "_uuid": "5a0593fb4564f0284ca7fdf5c006020cb288db95",
        "execution": {
          "iopub.execute_input": "2021-06-26T16:35:08.956119Z",
          "iopub.status.busy": "2021-06-26T16:35:08.955538Z",
          "iopub.status.idle": "2021-06-26T16:35:08.973222Z",
          "shell.execute_reply": "2021-06-26T16:35:08.972151Z",
          "shell.execute_reply.started": "2021-06-26T16:35:08.956072Z"
        }
      },
      "source": [
        "DF.describe(train, :nmissing, :eltype)"
      ],
      "execution_count": null,
      "outputs": []
    },
    {
      "cell_type": "markdown",
      "metadata": {},
      "source": [
        "It looks like, the features have unequal amount of data entries for every column and they have many different types of variables. This can happen for the following reasons...\n",
        "\n",
        "- We may have missing values in our features.\n",
        "- We may have categorical features.\n",
        "- We may have alphanumerical or/and text features.\n",
        "\n",
        "## 2b. Dealing with Missing values\n",
        "\n",
        "<a id=\"dealwithnullvalues\"></a>\n",
        "\n",
        "---\n",
        "\n",
        "**Missing values in _train_ dataset.**"
      ]
    },
    {
      "cell_type": "code",
      "metadata": {
        "_kg_hide-input": true,
        "execution": {
          "iopub.execute_input": "2021-06-26T16:35:08.975451Z",
          "iopub.status.busy": "2021-06-26T16:35:08.974927Z",
          "iopub.status.idle": "2021-06-26T16:35:08.98326Z",
          "shell.execute_reply": "2021-06-26T16:35:08.982644Z",
          "shell.execute_reply.started": "2021-06-26T16:35:08.975205Z"
        }
      },
      "source": [
        "function missing_percentage(df::DF.DataFrame)\n",
        "    \"\"\"This function takes a DataFrame as input and returns total missing values and percentages\"\"\"\n",
        "    missing_counts = [count(ismissing, df[!, col]) for col in DF.names(df)]\n",
        "    missing_pct = round.(missing_counts ./ DF.nrow(df) .* 100, digits=2)\n",
        "\n",
        "    # Create result DataFrame\n",
        "    result = DF.DataFrame(\n",
        "        Column = DF.names(df),\n",
        "        Total = missing_counts,\n",
        "        Percent = missing_pct\n",
        "    )\n",
        "\n",
        "    # Sort by total missing values (descending)\n",
        "    return DF.sort(result, :Total, rev=true)\n",
        "end"
      ],
      "execution_count": null,
      "outputs": []
    },
    {
      "cell_type": "code",
      "metadata": {
        "execution": {
          "iopub.execute_input": "2021-06-26T16:35:09.092256Z",
          "iopub.status.busy": "2021-06-26T16:35:09.09199Z",
          "iopub.status.idle": "2021-06-26T16:35:09.108063Z",
          "shell.execute_reply": "2021-06-26T16:35:09.107054Z",
          "shell.execute_reply.started": "2021-06-26T16:35:09.092212Z"
        }
      },
      "source": [
        "missing_percentage(train)"
      ],
      "execution_count": null,
      "outputs": []
    },
    {
      "cell_type": "markdown",
      "metadata": {},
      "source": [
        "**Missing values in _test_ set.**"
      ]
    },
    {
      "cell_type": "code",
      "metadata": {
        "_cell_guid": "073ef91b-e401-47a1-9b0a-d08ad710abce",
        "_kg_hide-input": true,
        "_uuid": "1ec1de271f57c9435ce111261ba08c5d6e34dbcb",
        "execution": {
          "iopub.execute_input": "2021-06-26T16:35:09.208229Z",
          "iopub.status.busy": "2021-06-26T16:35:09.207968Z",
          "iopub.status.idle": "2021-06-26T16:35:09.221423Z",
          "shell.execute_reply": "2021-06-26T16:35:09.220732Z",
          "shell.execute_reply.started": "2021-06-26T16:35:09.208186Z"
        }
      },
      "source": [
        "missing_percentage(test)"
      ],
      "execution_count": null,
      "outputs": []
    },
    {
      "cell_type": "markdown",
      "metadata": {},
      "source": [
        "We see that in both **train**, and **test** dataset have missing values. Let's make an effort to fill these missing values starting with \"Embarked\" feature.\n",
        "\n",
        "### Embarked feature\n",
        "\n",
        "---"
      ]
    },
    {
      "cell_type": "code",
      "metadata": {
        "_kg_hide-input": true,
        "execution": {
          "iopub.execute_input": "2021-06-26T16:35:09.223175Z",
          "iopub.status.busy": "2021-06-26T16:35:09.222681Z",
          "iopub.status.idle": "2021-06-26T16:35:09.230671Z",
          "shell.execute_reply": "2021-06-26T16:35:09.229793Z",
          "shell.execute_reply.started": "2021-06-26T16:35:09.223128Z"
        }
      },
      "source": [
        "function percent_value_counts(df::DF.DataFrame, feature::Symbol)\n",
        "    \"\"\"This function takes a dataframe and a column and finds the percentage of the value_counts\"\"\"\n",
        "\n",
        "    # Count values including missing\n",
        "    counts = DF.combine(DF.groupby(df, feature), DF.nrow => :Total)\n",
        "\n",
        "    # Calculate percentages\n",
        "    counts.Percent = round.(counts.Total ./ DF.nrow(df) .* 100, digits=2)\n",
        "\n",
        "    # Sort by total count (descending)\n",
        "    return DF.sort(counts, :Total, rev=true)\n",
        "end"
      ],
      "execution_count": null,
      "outputs": []
    },
    {
      "cell_type": "code",
      "metadata": {
        "_kg_hide-input": true,
        "execution": {
          "iopub.execute_input": "2021-06-26T16:35:09.236974Z",
          "iopub.status.busy": "2021-06-26T16:35:09.236548Z",
          "iopub.status.idle": "2021-06-26T16:35:09.254321Z",
          "shell.execute_reply": "2021-06-26T16:35:09.253654Z",
          "shell.execute_reply.started": "2021-06-26T16:35:09.236929Z"
        }
      },
      "source": [
        "percent_value_counts(train, :Embarked)"
      ],
      "execution_count": null,
      "outputs": []
    },
    {
      "cell_type": "markdown",
      "metadata": {},
      "source": [
        "It looks like there are only two null values( ~ 0.22 %) in the Embarked feature, we can replace these with the mode value \"S\". However, let's dig a little deeper.\n",
        "\n",
        "**Let's see what are those two null values**"
      ]
    },
    {
      "cell_type": "code",
      "metadata": {
        "_cell_guid": "000ebdd7-ff57-48d9-91bf-a29ba79f1a1c",
        "_kg_hide-input": true,
        "_uuid": "6b9cb050e9dae424bb738ba9cdf3c84715887fa3",
        "execution": {
          "iopub.execute_input": "2021-06-26T16:35:09.276102Z",
          "iopub.status.busy": "2021-06-26T16:35:09.275649Z",
          "iopub.status.idle": "2021-06-26T16:35:09.292037Z",
          "shell.execute_reply": "2021-06-26T16:35:09.291163Z",
          "shell.execute_reply.started": "2021-06-26T16:35:09.275879Z"
        }
      },
      "source": [
        "train[ismissing.(train.Embarked), :]"
      ],
      "execution_count": null,
      "outputs": []
    },
    {
      "cell_type": "markdown",
      "metadata": {},
      "source": [
        "We may be able to solve these two missing values by looking at other independent variables of the two raws. Both passengers paid a fare of $80, are of Pclass 1 and female Sex. Let's see how the **Fare** is distributed among all **Pclass** and **Embarked** feature values"
      ]
    },
    {
      "cell_type": "code",
      "metadata": {
        "_cell_guid": "bf257322-0c9c-4fc5-8790-87d8c94ad28a",
        "_kg_hide-input": true,
        "_uuid": "ad15052fe6cebe37161c6e01e33a5c083dc2b558",
        "execution": {
          "iopub.execute_input": "2021-06-26T16:35:09.293919Z",
          "iopub.status.busy": "2021-06-26T16:35:09.293564Z",
          "iopub.status.idle": "2021-06-26T16:35:09.866643Z",
          "shell.execute_reply": "2021-06-26T16:35:09.865701Z",
          "shell.execute_reply.started": "2021-06-26T16:35:09.293817Z"
        }
      },
      "source": [
        "fig = Makie.Figure()\n",
        "\n",
        "# Prepare data for plotting\n",
        "train_clean = DF.dropmissing(train, [:Embarked, :Fare, :Pclass])\n",
        "test_clean = DF.dropmissing(test, [:Embarked, :Fare, :Pclass])\n",
        "\n",
        "# Create mapping for embarked ports to numbers\n",
        "unique_categories = unique(train_clean.Embarked)\n",
        "category_to_index = Dict(category => i for (i, category) in enumerate(unique_categories))\n",
        "# Convert categorical to numeric\n",
        "train_clean.Embarked_num = [category_to_index[port] for port in train_clean.Embarked]\n",
        "test_clean.Embarked_num = [category_to_index[port] for port in test_clean.Embarked]\n",
        "\n",
        "# Training set boxplot\n",
        "ax1 = Makie.Axis(fig[1, 1],\n",
        "    title = \"Training Set\",\n",
        "    xlabel = \"Embarked\",\n",
        "    ylabel = \"Fare\",\n",
        "    xticks = (1:3, unique_categories)\n",
        ")\n",
        "\n",
        "ax2 = Makie.Axis(fig[1, 2],\n",
        "    title = \"Test Set\",\n",
        "    xlabel = \"Embarked\",\n",
        "    ylabel = \"Fare\",\n",
        "    xticks = (1:3, unique_categories)\n",
        ")\n",
        "\n",
        "Makie.boxplot!(ax2, test_clean.Embarked_num, test_clean.Fare,\n",
        "           dodge = test_clean.Pclass,\n",
        "           color = test_clean.Pclass)\n",
        "Makie.boxplot!(ax1, train_clean.Embarked_num, train_clean.Fare,\n",
        "           dodge = train_clean.Pclass,\n",
        "           color = train_clean.Pclass)\n",
        "\n",
        "fig"
      ],
      "execution_count": null,
      "outputs": []
    },
    {
      "cell_type": "markdown",
      "metadata": {},
      "source": [
        "Here, in both training set and test set, the average fare closest to $80 are in the <b>C</b> Embarked values where pclass is 1. So, let's fill in the missing values as \"C\""
      ]
    },
    {
      "cell_type": "code",
      "metadata": {
        "_cell_guid": "2f5f3c63-d22c-483c-a688-a5ec2a477330",
        "_kg_hide-input": true,
        "_uuid": "52e51ada5dfeb700bf775c66e9307d6d1e2233de",
        "execution": {
          "iopub.execute_input": "2021-06-26T16:35:09.868523Z",
          "iopub.status.busy": "2021-06-26T16:35:09.868016Z",
          "iopub.status.idle": "2021-06-26T16:35:09.874135Z",
          "shell.execute_reply": "2021-06-26T16:35:09.873022Z",
          "shell.execute_reply.started": "2021-06-26T16:35:09.868249Z"
        },
        "scrolled": true
      },
      "source": [
        "## Replacing the null values in the Embarked column with the mode.\n",
        "train.Embarked = coalesce.(train.Embarked, \"C\");"
      ],
      "execution_count": null,
      "outputs": []
    },
    {
      "cell_type": "markdown",
      "metadata": {},
      "source": [
        "### Cabin Feature\n",
        "\n",
        "---"
      ]
    },
    {
      "cell_type": "code",
      "metadata": {
        "_cell_guid": "e76cd770-b498-4444-b47a-4ac6ae63193b",
        "_kg_hide-input": true,
        "_uuid": "b809a788784e2fb443457d7ef4ca17a896bf58b4",
        "execution": {
          "iopub.execute_input": "2021-06-26T16:35:09.876171Z",
          "iopub.status.busy": "2021-06-26T16:35:09.875621Z",
          "iopub.status.idle": "2021-06-26T16:35:09.886193Z",
          "shell.execute_reply": "2021-06-26T16:35:09.885088Z",
          "shell.execute_reply.started": "2021-06-26T16:35:09.875859Z"
        },
        "scrolled": true
      },
      "source": [
        "println(\"Train Cabin missing: $(count(ismissing, train.Cabin) / DF.nrow(train))\")\n",
        "println(\"Test Cabin missing: $(count(ismissing, test.Cabin) / DF.nrow(test))\")"
      ],
      "execution_count": null,
      "outputs": []
    },
    {
      "cell_type": "markdown",
      "metadata": {},
      "source": [
        "Approximately 77% of Cabin feature is missing in the training data and 78% missing on the test data.\n",
        "We have two choices,\n",
        "\n",
        "- we can either get rid of the whole feature, or\n",
        "- we can brainstorm a little and find an appropriate way to put them in use. For example, We may say passengers with cabin record had a higher socio-economic-status then others. We may also say passengers with cabin record were more likely to be taken into consideration when loading into the boat.\n",
        "\n",
        "Let's combine train and test data first and for now, will assign all the null values as **\"N\"**"
      ]
    },
    {
      "cell_type": "code",
      "metadata": {
        "_kg_hide-input": true,
        "_uuid": "8ff7b4f88285bc65d72063d7fdf8a09a5acb62d3",
        "execution": {
          "iopub.execute_input": "2021-06-26T16:35:09.888377Z",
          "iopub.status.busy": "2021-06-26T16:35:09.88784Z",
          "iopub.status.idle": "2021-06-26T16:35:09.902296Z",
          "shell.execute_reply": "2021-06-26T16:35:09.901697Z",
          "shell.execute_reply.started": "2021-06-26T16:35:09.888114Z"
        }
      },
      "source": [
        "survivors = train.Survived\n",
        "DF.select!(train, DF.Not(:Survived))  # Remove Survived column\n",
        "all_data = vcat(train, test)\n",
        "\n",
        "all_data.Cabin = coalesce.(all_data.Cabin, \"N\");"
      ],
      "execution_count": null,
      "outputs": []
    },
    {
      "cell_type": "markdown",
      "metadata": {},
      "source": [
        "All the cabin names start with an English alphabet following by multiple digits. It seems like there are some passengers that had booked multiple cabin rooms in their name. This is because many of them travelled with family. However, they all seem to book under the same letter followed by different numbers. It seems like there is a significance with the letters rather than the numbers. Therefore, we can group these cabins according to the letter of the cabin name."
      ]
    },
    {
      "cell_type": "code",
      "metadata": {
        "_cell_guid": "87995359-8a77-4e38-b8bb-e9b4bdeb17ed",
        "_kg_hide-input": true,
        "_uuid": "c1e9e06eb7f2a6eeb1a6d69f000217e7de7d5f25",
        "execution": {
          "iopub.execute_input": "2021-06-26T16:35:09.904181Z",
          "iopub.status.busy": "2021-06-26T16:35:09.903766Z",
          "iopub.status.idle": "2021-06-26T16:35:09.909654Z",
          "shell.execute_reply": "2021-06-26T16:35:09.908573Z",
          "shell.execute_reply.started": "2021-06-26T16:35:09.904014Z"
        }
      },
      "source": [
        "all_data.Cabin = [string(cabin[1]) for cabin in all_data.Cabin];"
      ],
      "execution_count": null,
      "outputs": []
    },
    {
      "cell_type": "markdown",
      "metadata": {},
      "source": [
        "Now let's look at the value counts of the cabin features and see how it looks."
      ]
    },
    {
      "cell_type": "code",
      "metadata": {
        "_kg_hide-input": true,
        "execution": {
          "iopub.execute_input": "2021-06-26T16:35:09.91156Z",
          "iopub.status.busy": "2021-06-26T16:35:09.911098Z",
          "iopub.status.idle": "2021-06-26T16:35:09.928945Z",
          "shell.execute_reply": "2021-06-26T16:35:09.928025Z",
          "shell.execute_reply.started": "2021-06-26T16:35:09.911398Z"
        }
      },
      "source": [
        "percent_value_counts(all_data, :Cabin)"
      ],
      "execution_count": null,
      "outputs": []
    },
    {
      "cell_type": "markdown",
      "metadata": {},
      "source": [
        "So, We still haven't done any effective work to replace the null values. Let's stop for a second here and think through how we can take advantage of some of the other features here.\n",
        "\n",
        "- We can use the average of the fare column We can use pythons **_groupby_** function to get the mean fare of each cabin letter."
      ]
    },
    {
      "cell_type": "code",
      "metadata": {
        "_kg_hide-input": true,
        "execution": {
          "iopub.execute_input": "2021-06-26T16:35:09.930774Z",
          "iopub.status.busy": "2021-06-26T16:35:09.930283Z",
          "iopub.status.idle": "2021-06-26T16:35:09.942122Z",
          "shell.execute_reply": "2021-06-26T16:35:09.941067Z",
          "shell.execute_reply.started": "2021-06-26T16:35:09.930532Z"
        }
      },
      "source": [
        "@chain all_data begin\n",
        "    DF.dropmissing(:Fare)\n",
        "    DF.groupby(:Cabin)\n",
        "    DF.combine(:Fare => Stats.mean => :Mean_Fare)\n",
        "    DF.sort(:Mean_Fare)\n",
        "end"
      ],
      "execution_count": null,
      "outputs": []
    },
    {
      "cell_type": "markdown",
      "metadata": {},
      "source": [
        "Now, these means can help us determine the unknown cabins, if we compare each unknown cabin rows with the given mean's above. Let's write a simple function so that we can give cabin names based on the means."
      ]
    },
    {
      "cell_type": "code",
      "metadata": {
        "_kg_hide-input": true,
        "_uuid": "a466da29f1989fa983147faf9e63d18783468567",
        "execution": {
          "iopub.execute_input": "2021-06-26T16:35:09.943855Z",
          "iopub.status.busy": "2021-06-26T16:35:09.943364Z",
          "iopub.status.idle": "2021-06-26T16:35:09.952677Z",
          "shell.execute_reply": "2021-06-26T16:35:09.952057Z",
          "shell.execute_reply.started": "2021-06-26T16:35:09.943627Z"
        }
      },
      "source": [
        "function cabin_estimator(fare::Union{Float64, Missing})\n",
        "    \"\"\"Grouping cabin feature by the first letter based on fare\"\"\"\n",
        "    # Handle missing values\n",
        "    if ismissing(fare)\n",
        "        return \"N\"  # Default cabin for missing fare\n",
        "    end\n",
        "    \n",
        "    if fare < 16\n",
        "        return \"G\"\n",
        "    elseif 16 ≤ fare < 27\n",
        "        return \"F\"\n",
        "    elseif 27 ≤ fare < 38\n",
        "        return \"T\"\n",
        "    elseif 38 ≤ fare < 47\n",
        "        return \"A\"\n",
        "    elseif 47 ≤ fare < 53\n",
        "        return \"E\"\n",
        "    elseif 53 ≤ fare < 54\n",
        "        return \"D\"\n",
        "    elseif 54 ≤ fare < 116\n",
        "        return \"C\"\n",
        "    else\n",
        "        return \"B\"\n",
        "    end\n",
        "end"
      ],
      "execution_count": null,
      "outputs": []
    },
    {
      "cell_type": "markdown",
      "metadata": {},
      "source": [
        "Let's apply <b>cabin_estimator</b> function in each unknown cabins(cabin with <b>null</b> values). Once that is done we will separate our train and test to continue towards machine learning modeling."
      ]
    },
    {
      "cell_type": "code",
      "metadata": {
        "execution": {
          "iopub.execute_input": "2021-06-26T16:35:09.95455Z",
          "iopub.status.busy": "2021-06-26T16:35:09.954083Z",
          "iopub.status.idle": "2021-06-26T16:35:09.96302Z",
          "shell.execute_reply": "2021-06-26T16:35:09.962357Z",
          "shell.execute_reply.started": "2021-06-26T16:35:09.95437Z"
        }
      },
      "source": [
        "with_N = all_data[all_data.Cabin .== \"N\", :]\n",
        "without_N = all_data[all_data.Cabin .!= \"N\", :];"
      ],
      "execution_count": null,
      "outputs": []
    },
    {
      "cell_type": "code",
      "metadata": {
        "_kg_hide-input": true,
        "_uuid": "1c646b64c6e062656e5f727d5499266f847c4832",
        "execution": {
          "iopub.execute_input": "2021-06-26T16:35:09.965179Z",
          "iopub.status.busy": "2021-06-26T16:35:09.96464Z",
          "iopub.status.idle": "2021-06-26T16:35:09.981536Z",
          "shell.execute_reply": "2021-06-26T16:35:09.980705Z",
          "shell.execute_reply.started": "2021-06-26T16:35:09.964885Z"
        }
      },
      "source": [
        "with_N.Cabin = cabin_estimator.(with_N.Fare)\n",
        "\n",
        "# Combine back together\n",
        "all_data = vcat(with_N, without_N)\n",
        "\n",
        "# Sort by PassengerId\n",
        "DF.sort!(all_data, :PassengerId)\n",
        "\n",
        "# Separate train and test\n",
        "train = all_data[1:891, :]\n",
        "test = all_data[892:end, :]\n",
        "\n",
        "# Add back survival information\n",
        "train.Survived = survivors;"
      ],
      "execution_count": null,
      "outputs": []
    },
    {
      "cell_type": "markdown",
      "metadata": {},
      "source": [
        "### Fare Feature\n",
        "\n",
        "---\n",
        "\n",
        "If you have paid attention so far, you know that there is only one missing value in the fare column. Let's have it."
      ]
    },
    {
      "cell_type": "code",
      "metadata": {},
      "source": [
        "test[ismissing.(test.Fare), :]"
      ],
      "execution_count": null,
      "outputs": []
    },
    {
      "cell_type": "markdown",
      "metadata": {},
      "source": [
        "Here, We can take the average of the **Fare** column to fill in the NaN value. However, for the sake of learning and practicing, we will try something else. We can take the average of the values where**Pclass** is **_3_**, **Sex** is **_male_** and **Embarked** is **_S_**"
      ]
    },
    {
      "cell_type": "code",
      "metadata": {
        "_cell_guid": "e742aa76-b6f8-4882-8bd6-aa10b96f06aa",
        "_kg_hide-input": true,
        "_uuid": "f1dc8c6c33ba7df075ee608467be2a83dc1764fd",
        "execution": {
          "iopub.execute_input": "2021-06-26T16:35:10.002749Z",
          "iopub.status.busy": "2021-06-26T16:35:10.002232Z",
          "iopub.status.idle": "2021-06-26T16:35:10.012662Z",
          "shell.execute_reply": "2021-06-26T16:35:10.011431Z",
          "shell.execute_reply.started": "2021-06-26T16:35:10.00248Z"
        }
      },
      "source": [
        "missing_value = @chain test begin\n",
        "    DF.subset(:Pclass => x -> x .== 3, :Embarked => x -> x .== \"S\", :Sex => x -> x .== \"male\")\n",
        "    _.Fare\n",
        "    skipmissing\n",
        "    Stats.mean\n",
        "end\n",
        "\n",
        "test.Fare = coalesce.(test.Fare, missing_value);"
      ],
      "execution_count": null,
      "outputs": []
    },
    {
      "cell_type": "markdown",
      "metadata": {},
      "source": [
        "### Age Feature\n",
        "\n",
        "---\n",
        "\n",
        "We know that the feature \"Age\" is the one with most missing values, let's see it in terms of percentage."
      ]
    },
    {
      "cell_type": "code",
      "metadata": {
        "_cell_guid": "8ff25fb3-7a4a-4e06-b48f-a06b8d844917",
        "_kg_hide-input": true,
        "_uuid": "c356e8e85f53a27e44b5f28936773a289592c5eb",
        "execution": {
          "iopub.execute_input": "2021-06-26T16:35:10.014347Z",
          "iopub.status.busy": "2021-06-26T16:35:10.014023Z",
          "iopub.status.idle": "2021-06-26T16:35:10.024214Z",
          "shell.execute_reply": "2021-06-26T16:35:10.023404Z",
          "shell.execute_reply.started": "2021-06-26T16:35:10.014284Z"
        }
      },
      "source": [
        "println(\"Train age missing value: $(round(count(ismissing, train.Age) / DF.nrow(train) * 100, digits=2))%\")\n",
        "println(\"Test age missing value: $(round(count(ismissing, test.Age) / DF.nrow(test) * 100, digits=2))%\")"
      ],
      "execution_count": null,
      "outputs": []
    },
    {
      "cell_type": "markdown",
      "metadata": {},
      "source": [
        "We will take a different approach since **~20% data in the Age column is missing** in both train and test dataset. The age variable seems to be promising for determining survival rate. Therefore, It would be unwise to replace the missing values with median, mean or mode. We will use machine learning model Random Forest Regressor to impute missing value instead of Null value. We will keep the age column unchanged for now and work on that in the feature engineering section.\n",
        "\n",
        "# Part 3. Visualization and Feature Relations\n",
        "\n",
        "<a id=\"visualization_and_feature_relations\" ></a>\n",
        "\n",
        "---\n",
        "\n",
        "Before we dive into finding relations between independent variables and our dependent variable(survivor), let us create some assumptions about how the relations may turn-out among features.\n",
        "\n",
        "**Assumptions:**\n",
        "\n",
        "- Gender: More female survived than male\n",
        "- Pclass: Higher socio-economic status passenger survived more than others.\n",
        "- Age: Younger passenger survived more than other passengers.\n",
        "- Fare: Passenger with higher fare survived more that other passengers. This can be quite correlated with Pclass.\n",
        "\n",
        "Now, let's see how the features are related to each other by creating some visualizations.\n",
        "\n",
        "## 3a. Gender and Survived\n",
        "\n",
        "<a id=\"gender_and_survived\"></a>\n",
        "\n",
        "---\n"
      ]
    },
    {
      "cell_type": "code",
      "metadata": {},
      "source": [
        "Makie.set_theme!(Makie.theme_light())"
      ],
      "execution_count": null,
      "outputs": []
    },
    {
      "cell_type": "code",
      "metadata": {},
      "source": [
        "fig = Makie.Figure()\n",
        "ax = Makie.Axis(fig[1, 1], \n",
        "    title = \"Survived/Non-Survived Passenger Gender Distribution\",\n",
        "    xlabel = \"Sex\",\n",
        "    ylabel = \"% of passenger survived\",\n",
        "    xticks= (1:2, [\"Male\", \"Female\"]),\n",
        "    \n",
        ")\n",
        "\n",
        "# Calculate survival rates by gender\n",
        "survival_by_sex = @chain train begin\n",
        "    DF.groupby(:Sex)\n",
        "    DF.combine(:Survived => Stats.mean => :survival_rate)\n",
        "    DF.sort(:Sex, rev=true)  # Female first\n",
        "end\n",
        "\n",
        "# Create elegant barplot\n",
        "Makie.barplot!(ax, 1:2, survival_by_sex.survival_rate, \n",
        "           color = [\"green\", \"pink\"])\n",
        "\n",
        "fig"
      ],
      "execution_count": null,
      "outputs": []
    },
    {
      "cell_type": "markdown",
      "metadata": {},
      "source": [
        "This bar plot above shows the distribution of female and male survived. The **_x_label_** represents **Sex** feature while the **_y_label_** represents the % of **passenger survived**. This bar plot shows that ~74% female passenger survived while only ~19% male passenger survived.\n"
      ]
    },
    {
      "cell_type": "code",
      "metadata": {},
      "source": [
        "fig = Makie.Figure()\n",
        "ax = Makie.Axis(fig[1, 1],\n",
        "    title = \"Passenger Gender Distribution - Survived vs Not-survived\",\n",
        "    xlabel = \"Sex\",\n",
        "    ylabel = \"# of Passenger Survived\",\n",
        "    xticks = (1:2, [\"Male\", \"Female\"])\n",
        ")\n",
        "\n",
        "# Count data for grouped bar chart\n",
        "count_data = @chain train begin\n",
        "    DF.groupby([:Sex, :Survived])\n",
        "    DF.combine(DF.nrow => :count)\n",
        "    DF.unstack(:Survived, :count, fill=0)\n",
        "end\n",
        "\n",
        "# Create grouped bar chart\n",
        "counts = [count_data[1, 2], count_data[1, 3], count_data[2, 2], count_data[2, 3]]\n",
        "\n",
        "\n",
        "Makie.barplot!(ax, [1, 1, 2, 2], counts,\n",
        "           dodge = [1, 2, 1,2],\n",
        "           color = [\"gray\", \"green\", \"gray\", \"green\"])\n",
        "\n",
        "\n",
        "\n",
        "# Add legend\n",
        "Makie.Legend(fig[1, 2], \n",
        "    [Makie.PolyElement(color = \"gray\"), Makie.PolyElement(color = \"green\")],\n",
        "    [\"Not Survived\", \"Survived\"],\n",
        "    \"Survival Status\")\n",
        "\n",
        "fig"
      ],
      "execution_count": null,
      "outputs": []
    },
    {
      "cell_type": "markdown",
      "metadata": {},
      "source": [
        "This count plot shows the actual distribution of male and female passengers that survived and did not survive. It shows that among all the females ~ 230 survived and ~ 70 did not survive. While among male passengers ~110 survived and ~480 did not survive.\n",
        "\n",
        "**Summary**\n",
        "\n",
        "---\n",
        "\n",
        "- As we suspected, female passengers have survived at a much better rate than male passengers.\n",
        "- It seems about right since females and children were the priority.\n",
        "\n",
        "## 3b. Pclass and Survived\n",
        "\n",
        "<a id=\"pcalss_and_survived\"></a>\n",
        "\n",
        "---"
      ]
    },
    {
      "cell_type": "code",
      "metadata": {},
      "source": [
        "fig = Makie.Figure()\n",
        "ax = Makie.Axis(fig[1, 1],\n",
        "    title = \"Passenger Class Distribution - Survival Percentage\",\n",
        "    xlabel = \"Passenger Class\",\n",
        "    ylabel = \"Percentage\",\n",
        "    titlesize = 20,\n",
        "    xlabelsize = 16,\n",
        "    ylabelsize = 16,\n",
        "    xticks=(1:3, [\"1st Class\", \"2nd Class\", \"3rd Class\"])\n",
        ")\n",
        "\n",
        "# Calculate percentages by class\n",
        "class_survival = @chain train begin\n",
        "    DF.groupby([:Pclass, :Survived])\n",
        "    DF.combine(DF.nrow => :count)\n",
        "    DF.unstack(:Survived, :count, fill=0)\n",
        "end\n",
        "\n",
        "no_survived = class_survival[:, 2]\n",
        "yes_survived = class_survival[:, 3]\n",
        "total_by_class = no_survived + yes_survived\n",
        "\n",
        "survived_percentage = (yes_survived ./ total_by_class) * 100\n",
        "not_survived_percentage = (no_survived ./ total_by_class) * 100\n",
        "\n",
        "flatten = vcat(not_survived_percentage ,survived_percentage)\n",
        "\n",
        "Makie.barplot!(ax, [1, 2, 3, 1, 2, 3], flatten, stack=[1, 2, 3, 1, 2, 3], color = [\"red\", \"red\", \"red\", \"green\", \"green\", \"green\"], strokewidth = 1, strokecolor = :black)\n",
        "\n",
        "# Add legend\n",
        "Makie.Legend(fig[1, 2],\n",
        "    [Makie.PolyElement(color = \"#F44336\"), Makie.PolyElement(color = \"#4CAF50\")],\n",
        "    [\"Not Survived\", \"Survived\"],\n",
        "    \"Survival Status\")\n",
        "\n",
        "fig"
      ],
      "execution_count": null,
      "outputs": []
    },
    {
      "cell_type": "code",
      "metadata": {},
      "source": [
        "Makie.barplot([1, 2, 3], survived_percentage, axis=(xticks=(1:3, [\"1st Class\", \"2nd Class\", \"3rd Class\"]), title = \"Passenger Class Distribution - Survived vs Non-Survived\"), color=[\"brown\", \"orange\", \"green\"])"
      ],
      "execution_count": null,
      "outputs": []
    },
    {
      "cell_type": "markdown",
      "metadata": {},
      "source": [
        "- It looks like ...\n",
        "  - ~ 63% first class passenger survived titanic tragedy, while\n",
        "  - ~ 48% second class and\n",
        "  - ~ only 24% third class passenger survived."
      ]
    },
    {
      "cell_type": "code",
      "metadata": {},
      "source": [
        "fig = Makie.Figure(\n",
        "    title = \"Passenger Class Distribution - Survived vs Non-Survived\",\n",
        "    xlabel = \"Passenger Class\",\n",
        "    ylabel = \"Density of Passenger Survived\",\n",
        ") # Adjust figure size as needed\n",
        "ax =  Makie.Axis(fig[1, 1], xticks = ([1, 2, 3], [\"Upper\", \"Middle\", \"Lower\"]))           \n",
        "\n",
        "d1 = Makie.density!(ax, train.Pclass[train.Survived .== 0], color = (:gray, 0.2), strokecolor=:gray, strokewidth=2)\n",
        "\n",
        "d2= Makie.density!(ax, train.Pclass[train.Survived .== 1], color = (:green, 0.2), strokecolor=:green, strokewidth=2)\n",
        "\n",
        "Makie.axislegend(ax,\n",
        "    [d1, d2],\n",
        "    [\"Not Survived\", \"Survived\"],\n",
        "    \"Survival Status\")\n",
        "\n",
        "fig"
      ],
      "execution_count": null,
      "outputs": []
    },
    {
      "cell_type": "markdown",
      "metadata": {},
      "source": [
        "This KDE plot is pretty self-explanatory with all the labels and colors. Something I have noticed that some readers might find questionable is that the lower class passengers have survived more than second-class passengers. It is true since there were a lot more third-class passengers than first and second.\n",
        "\n",
        "**Summary**\n",
        "\n",
        "---\n",
        "\n",
        "The first class passengers had the upper hand during the tragedy. You can probably agree with me more on this, in the next section of visualizations where we look at the distribution of ticket fare and survived column.\n",
        "\n",
        "## 3c. Fare and Survived\n",
        "\n",
        "<a id=\"fare_and_survived\"></a>\n",
        "\n",
        "---"
      ]
    },
    {
      "cell_type": "code",
      "metadata": {},
      "source": [
        "fig = Makie.Figure()\n",
        "\n",
        "ax = Makie.Axis(fig[1, 1],\n",
        "    title = \"Fare Distribution - Survived vs Non-Survived\",\n",
        "    xlabel = \"Fare\",\n",
        "    ylabel = \"Density of Passenger Survived\",\n",
        ")\n",
        " \n",
        "d1 = Makie.density!(ax, train.Fare[train.Survived .== 0], color = (:gray, 0.2), strokecolor=:gray, strokewidth=2)\n",
        "d2 = Makie.density!(ax, train.Fare[train.Survived .== 1], color = (:green, 0.2), strokecolor=:green, strokewidth=2)\n",
        "\n",
        "Makie.axislegend(ax,\n",
        "    [d1, d2],\n",
        "    [\"Not Survived\", \"Survived\"],\n",
        "    \"Survival Status\")\n",
        "fig"
      ],
      "execution_count": null,
      "outputs": []
    },
    {
      "cell_type": "markdown",
      "metadata": {},
      "source": [
        "This plot shows something impressive..\n",
        "\n",
        "- The spike in the plot under 100 dollar represents that a lot of passengers who bought the ticket within that range did not survive.\n",
        "- When fare is approximately more than 280 dollars, there is no gray shade which means, either everyone passed that fare point survived or maybe there is an outlier that clouds our judgment. Let's check..."
      ]
    },
    {
      "cell_type": "code",
      "metadata": {},
      "source": [
        "train[train.Fare .> 280, :]"
      ],
      "execution_count": null,
      "outputs": []
    },
    {
      "cell_type": "markdown",
      "metadata": {},
      "source": [
        "As we assumed, it looks like an outlier with a fare of $512. We sure can delete this point. However, we will keep it for now.\n",
        "\n",
        "## 3d. Age and Survived\n",
        "\n",
        "<a id=\"age_and_survived\"></a>\n",
        "\n",
        "---"
      ]
    },
    {
      "cell_type": "code",
      "metadata": {},
      "source": [
        "fig = Makie.Figure()\n",
        "\n",
        "ax = Makie.Axis(fig[1, 1], title = \"Age Distribution - Survived vs Non-Survived\",\n",
        "    xlabel = \"Age\",\n",
        "    ylabel = \"Density of Passenger Survived\")\n",
        "\n",
        "\n",
        "# clean missing first\n",
        "clean_train =  DF.dropmissing(train, :Age)\n",
        "not_survived = clean_train.Age[clean_train.Survived .== 0]\n",
        "survived = clean_train.Age[clean_train.Survived .== 1]\n",
        "\n",
        "d1 = Makie.density!(ax, not_survived, color = (:gray, 0.2), strokecolor=:gray, strokewidth=2)\n",
        "d2 = Makie.density!(ax, survived, color = (:green, 0.2), strokecolor=:green, strokewidth=2)\n",
        "\n",
        "Makie.axislegend(ax,\n",
        "    [d1, d2],\n",
        "    [\"Not Survived\", \"Survived\"],\n",
        "    \"Survival Status\")\n",
        "\n",
        "fig"
      ],
      "execution_count": null,
      "outputs": []
    },
    {
      "cell_type": "markdown",
      "metadata": {},
      "source": [
        "There is nothing out of the ordinary about this plot, except the very left part of the distribution. This may hint on the posibility that children and infants were the priority.\n",
        "\n",
        "## 3e. Combined Feature Relations\n",
        "\n",
        "<a id='combined_feature_relations'></a>\n",
        "\n",
        "---\n",
        "\n",
        "In this section, we are going to discover more than two feature relations in a single graph. I will try my best to illustrate most of the feature relations. Let's get to it."
      ]
    },
    {
      "cell_type": "code",
      "metadata": {},
      "source": [
        "fig = Makie.Figure(title=\"Survived by Sex and Age\")\n",
        "\n",
        "# Create subplots for each combination\n",
        "\n",
        "for (i, (sex, survived)) in enumerate(Iterators.product([\"female\", \"male\"], [0, 1]))\n",
        "\n",
        "    ax = Makie.Axis(fig[div(i - 1, 2) + 1, i % 2 + 1],\n",
        "        title = \"$sex $(survived == 1 ? \"Survived\" : \"Not Survived\")\",\n",
        "        xlabel = \"Age\",\n",
        "        ylabel = \"Count\"\n",
        "    )\n",
        "    \n",
        "    subset_data = train[(train.Sex .== sex) .& (train.Survived .== survived) .& .!ismissing.(train.Age), :]\n",
        "    \n",
        "    Makie.hist!(ax, subset_data.Age, bins = 20, \n",
        "            color = survived == 1 ? \"green\" : \"gray\",\n",
        "            strokewidth = 1, strokecolor = :white)\n",
        "   \n",
        "end\n",
        "\n",
        "fig"
      ],
      "execution_count": null,
      "outputs": []
    },
    {
      "cell_type": "markdown",
      "metadata": {},
      "source": [
        "Facetgrid is a great way to visualize multiple variables and their relationships at once. From the chart in section 3a we have a intuation that female passengers had better prority than males during the tragedy. However, from this facet grid, we can also understand which age range groups survived more than others or were not so lucky"
      ]
    },
    {
      "cell_type": "code",
      "metadata": {},
      "source": [
        "fig = Makie.Figure(title=\"Survived by Sex and Age\")\n",
        "\n",
        "# Create subplots for each combination\n",
        "for (i, (sex, embarked)) in enumerate(Iterators.product([\"female\", \"male\"], [\"S\", \"C\", \"Q\"]))\n",
        "\n",
        "    ax = Makie.Axis(fig[div(i - 1, 2) + 1, i % 2 + 1],\n",
        "        title = \"$sex $embarked\",\n",
        "    )\n",
        "\n",
        "    subset_data = train[(train.Sex .== sex) .& (train.Embarked .== embarked) .& .!ismissing.(train.Age), :]\n",
        "\n",
        "    for (survived) in [0, 1]\n",
        "        subset_survived = subset_data[(subset_data.Survived .== survived), :]\n",
        "        println(\"Length of subset: $(DF.nrow(subset_survived))\")\n",
        "\n",
        "        if DF.nrow(subset_data) > 0\n",
        "             Makie.hist!(ax, subset_survived.Age, \n",
        "                        bins = 20,\n",
        "                        color = survived == 1 ? (:green, 0.5) : (:gray, 0.5),\n",
        "                        strokewidth = 1, \n",
        "                        strokecolor = :white,\n",
        "                        label = survived == 1 ? \"Survived\" : \"Not Survived\"\n",
        "                    )\n",
        "        end\n",
        "    end\n",
        "end\n",
        "\n",
        "\n",
        "Makie.Legend(fig[1, 3], \n",
        "    [Makie.PolyElement(color = (:gray, 0.7)), \n",
        "     Makie.PolyElement(color = (:green, 0.7))],\n",
        "    [\"Not Survived\", \"Survived\"],\n",
        "    \"Survival Status\"\n",
        ")\n",
        "\n",
        "fig"
      ],
      "execution_count": null,
      "outputs": []
    },
    {
      "cell_type": "markdown",
      "metadata": {},
      "source": [
        "This is another compelling facet grid illustrating four features relationship at once. They are **Embarked, Age, Survived & Sex**.\n",
        "\n",
        "- The color illustrates passengers survival status(green represents survived, gray represents not survived)\n",
        "- The column represents Sex(left being male, right stands for female)\n",
        "- The row represents Embarked(from top to bottom: S, C, Q)\n",
        "\n",
        "---\n",
        "\n",
        "Now that I have steered out the apparent let's see if we can get some insights that are not so obvious as we look at the data.\n",
        "\n",
        "- Most passengers seem to be boarded on Southampton(S).\n",
        "- More than 60% of the passengers died boarded on Southampton.\n",
        "- More than 60% of the passengers lived boarded on Cherbourg(C).\n",
        "- Pretty much every male that boarded on Queenstown(Q) did not survive.\n",
        "- There were very few females boarded on Queenstown, however, most of them survived."
      ]
    },
    {
      "cell_type": "code",
      "metadata": {},
      "source": [
        "fig = Makie.Figure(resolution = (1000, 600))\n",
        "\n",
        "ax_m = Makie.Axis(fig[1, 1],\n",
        "    title = \"Male\", \n",
        "    xlabel = \"Fare\",\n",
        "    ylabel = \"Age\")\n",
        "# Female subplot\n",
        "ax_f = Makie.Axis(fig[1, 2], \n",
        "    title = \"Female\",\n",
        "    xlabel = \"Fare\",\n",
        "    ylabel = \"Age\")\n",
        "\n",
        "female_data = train[(train.Sex .== \"female\") .& .!ismissing.(train.Age), :]\n",
        "male_data = train[(train.Sex .== \"male\") .& .!ismissing.(train.Age), :]\n",
        "\n",
        "\n",
        "Makie.scatter!(ax_m, male_data.Fare, male_data.Age,\n",
        "           color = [s == 1 ? \"green\" : \"gray\" for s in male_data.Survived],\n",
        "           strokewidth=1, strokecolor=\"white\", markersize=14)\n",
        "Makie.scatter!(ax_f, female_data.Fare, female_data.Age,\n",
        "           color = [s == 1 ? \"green\" : \"gray\" for s in female_data.Survived],\n",
        "           strokewidth=1, strokecolor=\"white\", markersize=14)\n",
        "\n",
        "\n",
        "# Add legend\n",
        "Makie.Legend(fig[1, 3],\n",
        "    [Makie.MarkerElement(color = \"gray\", marker = :circle), \n",
        "     Makie.MarkerElement(color = \"green\", marker = :circle)],\n",
        "    [\"Not Survived\", \"Survived\"],\n",
        "    \"Survived\")\n",
        "\n",
        "Makie.Label(fig[0, :], \"Survived by Sex, Fare and Age\")\n",
        "fig"
      ],
      "execution_count": null,
      "outputs": []
    },
    {
      "cell_type": "markdown",
      "metadata": {},
      "source": [
        "This facet grid unveils a couple of interesting insights. Let's find out.\n",
        "\n",
        "- The grid above clearly demonstrates the three outliers with Fare of over \\$500. At this point, I think we are quite confident that these outliers should be deleted.\n",
        "- Most of the passengers were with in the Fare range of \\$100."
      ]
    },
    {
      "cell_type": "code",
      "metadata": {},
      "source": [
        "train = train[train.Fare .< 500, :]\n",
        "\n",
        "fig = Makie.Figure(size = (800, 600))\n",
        "ax = Makie.Axis(fig[1, 1],\n",
        "    title = \"Parents/Children Survival Rate\",\n",
        "    xlabel = \"Number of Parents/Children\",\n",
        "    ylabel = \"Survival Rate\",\n",
        ")\n",
        "\n",
        "parch_survival = @chain train_clean begin\n",
        "    DF.groupby(:Parch)\n",
        "    DF.combine(\n",
        "        :Survived => Stats.mean => :survival_rate,\n",
        "        :Survived => Stats.std => :std_dev,\n",
        "        :Survived => length => :count\n",
        "    )\n",
        "end\n",
        "\n",
        "parch_survival.std_error = parch_survival.std_dev ./ sqrt.(parch_survival.count)\n",
        "\n",
        "Makie.scatterlines!(ax, parch_survival.Parch, parch_survival.survival_rate,\n",
        "    color = \"#2196F3\", \n",
        "    linewidth = 3,\n",
        "    markersize = 8\n",
        ")\n",
        "\n",
        "error = Makie.errorbars!(ax, parch_survival.Parch, parch_survival.survival_rate, \n",
        "    parch_survival.std_error,\n",
        "    color = \"blue\",\n",
        "    linewidth = 2,\n",
        "    whiskerwidth = 8\n",
        ")\n",
        "\n",
        "Makie.Legend(fig[1, 2],\n",
        "    [Makie.PolyElement(color = \"#2196F3\"), Makie.PolyElement(color = \"blue\")],\n",
        "    [\"Survival Rate\", \"Standard Error\"],\n",
        "    \"Legend\"\n",
        ")\n",
        "fig"
      ],
      "execution_count": null,
      "outputs": []
    },
    {
      "cell_type": "markdown",
      "metadata": {},
      "source": [
        "**Passenger who traveled in big groups with parents/children had less survival rate than other passengers.**"
      ]
    },
    {
      "cell_type": "code",
      "metadata": {},
      "source": [
        "fig = Makie.Figure(size = (800, 600))\n",
        "ax = Makie.Axis(fig[1, 1],\n",
        "    title = \"Siblings/Spouses Survival Rate\",\n",
        "    xlabel = \"Number of Siblings/Spouses\",\n",
        "    ylabel = \"Survival Rate\",\n",
        ")\n",
        "\n",
        "sibsp_survival = @chain train_clean begin\n",
        "    DF.groupby(:SibSp)\n",
        "    DF.combine(\n",
        "        :Survived => Stats.mean => :survival_rate,\n",
        "        :Survived => Stats.std => :std_dev,\n",
        "        :Survived => length => :count\n",
        "    )\n",
        "end\n",
        "\n",
        "sibsp_survival.std_error = sibsp_survival.std_dev ./ sqrt.(sibsp_survival.count)\n",
        "\n",
        "Makie.scatterlines!(ax, sibsp_survival.SibSp, sibsp_survival.survival_rate,\n",
        "    color = \"#2196F3\", \n",
        "    linewidth = 3,\n",
        "    markersize = 8\n",
        ")\n",
        "\n",
        "error = Makie.errorbars!(ax, sibsp_survival.SibSp, sibsp_survival.survival_rate, \n",
        "    sibsp_survival.std_error,\n",
        "    color = \"blue\",\n",
        "    linewidth = 2,\n",
        "    whiskerwidth = 8\n",
        ")\n",
        "\n",
        "Makie.Legend(fig[1, 2],\n",
        "    [Makie.PolyElement(color = \"#2196F3\"), Makie.PolyElement(color = \"blue\")],\n",
        "    [\"Survival Rate\", \"Standard Error\"],\n",
        "    \"Legend\"\n",
        ")\n",
        "fig"
      ],
      "execution_count": null,
      "outputs": []
    },
    {
      "cell_type": "markdown",
      "metadata": {},
      "source": [
        "**While, passenger who traveled in small groups with sibilings/spouses had better changes of survivint than other passengers.**"
      ]
    },
    {
      "cell_type": "code",
      "metadata": {},
      "source": [
        "train.Sex = [sex == \"female\" ? 0 : 1 for sex in train.Sex]\n",
        "test.Sex = [sex == \"female\" ? 0 : 1 for sex in test.Sex];"
      ],
      "execution_count": null,
      "outputs": []
    },
    {
      "cell_type": "markdown",
      "metadata": {},
      "source": [
        "# Part 4: Statistical Overview\n",
        "\n",
        "<a id=\"statisticaloverview\"></a>\n",
        "\n",
        "---\n",
        "\n",
        "![title](https://cdn-images-1.medium.com/max/400/1*hFJ-LI7IXcWpxSLtaC0dfg.png)\n",
        "\n",
        "**Train info**"
      ]
    },
    {
      "cell_type": "code",
      "metadata": {},
      "source": [
        "DF.describe(train)"
      ],
      "execution_count": null,
      "outputs": []
    },
    {
      "cell_type": "code",
      "metadata": {},
      "source": [
        "categorical_cols = [col for col in names(train) if eltype(train[!, col]) <: Union{String, AbstractString}]\n",
        "DF.describe(train[!, categorical_cols])"
      ],
      "execution_count": null,
      "outputs": []
    },
    {
      "cell_type": "code",
      "metadata": {},
      "source": [
        "survived_summary = @chain train begin\n",
        "    DF.select(DF.names(train, Number)...)\n",
        "    DF.groupby(:Survived)\n",
        "    DF.combine(DF.All() .=> Stats.mean)\n",
        "end"
      ],
      "execution_count": null,
      "outputs": []
    },
    {
      "cell_type": "code",
      "metadata": {},
      "source": [
        "sex_summary = @chain train begin\n",
        "    DF.select(DF.names(train, Number)...)\n",
        "    DF.groupby(:Sex)\n",
        "    DF.combine(DF.All() .=> Stats.mean)\n",
        "end"
      ],
      "execution_count": null,
      "outputs": []
    },
    {
      "cell_type": "code",
      "metadata": {},
      "source": [
        "class_summary = @chain train begin\n",
        "    DF.select(DF.names(train, Number)...)\n",
        "    DF.groupby(:Pclass)\n",
        "    DF.combine(DF.All() .=> Stats.mean)\n",
        "end"
      ],
      "execution_count": null,
      "outputs": []
    },
    {
      "cell_type": "markdown",
      "metadata": {},
      "source": [
        "I have gathered a small summary from the statistical overview above. Let's see what they are...\n",
        "\n",
        "- This train data set has 891 raw and 9 columns.\n",
        "- only 38% passenger survived during that tragedy.\n",
        "- ~74% female passenger survived, while only ~19% male passenger survived.\n",
        "- ~63% first class passengers survived, while only 24% lower class passenger survived.\n",
        "\n",
        "## 4a. Correlation Matrix and Heatmap\n",
        "\n",
        "<a id=\"heatmap\"></a>\n",
        "\n",
        "---\n",
        "\n",
        "### Correlations"
      ]
    },
    {
      "cell_type": "code",
      "metadata": {},
      "source": [
        "train_clean = DF.dropmissing(train)\n",
        "train_numeric = DF.select(train_clean, DF.names(train_clean, Number)...)\n",
        "corr_matrix = Stats.cor(Stats.Matrix(train_numeric))\n",
        "\n",
        "corr_df = DF.DataFrame(corr_matrix, DF.names(train_numeric))"
      ],
      "execution_count": null,
      "outputs": []
    },
    {
      "cell_type": "code",
      "metadata": {},
      "source": [
        "DF.sort(DF.DataFrame(\n",
        "    Variable = DF.names(corr_df),\n",
        "    Correlation = abs.(corr_df[!, :Survived])\n",
        "), [:Correlation], rev=true)"
      ],
      "execution_count": null,
      "outputs": []
    },
    {
      "cell_type": "markdown",
      "metadata": {},
      "source": [
        "** Sex is the most important correlated feature with _Survived(dependent variable)_ feature followed by Pclass.**"
      ]
    },
    {
      "cell_type": "code",
      "metadata": {},
      "source": [
        "DF.sort(DF.DataFrame(\n",
        "    Variable = DF.names(corr_df),\n",
        "    Correlation = abs.(corr_df[!, :Survived]) .^ 2\n",
        "), [:Correlation], rev=true)"
      ],
      "execution_count": null,
      "outputs": []
    },
    {
      "cell_type": "markdown",
      "metadata": {},
      "source": [
        "**Squaring the correlation feature not only gives on positive correlations but also amplifies the relationships.**\n"
      ]
    },
    {
      "cell_type": "code",
      "metadata": {},
      "source": [
        "n = size(corr_df, 1)\n",
        "\n",
        "fig = Makie.Figure()\n",
        "ax = Makie.Axis(fig[1, 1], \n",
        "    title = \"Correlaciones Entre Variables\",  \n",
        "    xticks=((1:n), DF.names(corr_df)), \n",
        "    yticks=((1:n), DF.names(corr_df)),\n",
        ")\n",
        "\n",
        "hm = Makie.heatmap!(ax, (1:n), (1:n), corr_matrix, colormap=\"RdBu\")\n",
        "\n",
        "for i in 1:n\n",
        "    for j in 1:n\n",
        "        text_val = corr_matrix[j, i]\n",
        "        \n",
        "        Makie.text!(ax, i, j, \n",
        "            text = string(round(text_val, digits=2)),\n",
        "            color = abs(text_val) > 0.5 ? :white : :black,\n",
        "            fontsize = 10,\n",
        "            align = (:center, :center)\n",
        "        )\n",
        "    end\n",
        "end\n",
        "\n",
        "Makie.Colorbar(fig[1, 2], hm, \n",
        "    label = \"Coeficiente de Correlación\",\n",
        ")\n",
        "\n",
        "fig"
      ],
      "execution_count": null,
      "outputs": []
    },
    {
      "cell_type": "markdown",
      "metadata": {},
      "source": [
        "#### Positive Correlation Features:\n",
        "\n",
        "- Fare and Survived: 0.26\n",
        "\n",
        "#### Negative Correlation Features:\n",
        "\n",
        "- Fare and Pclass: -0.6\n",
        "- Sex and Survived: -0.55\n",
        "- Pclass and Survived: -0.33\n",
        "\n",
        "**So, Let's analyze these correlations a bit.** We have found some moderately strong relationships between different features. There is a definite positive correlation between Fare and Survived rated. This relationship reveals that the passenger who paid more money for their ticket were more likely to survive. This theory aligns with one other correlation which is the correlation between Fare and Pclass(-0.6). This relationship can be explained by saying that first class passenger(1) paid more for fare then second class passenger(2), similarly second class passenger paid more than the third class passenger(3). This theory can also be supported by mentioning another Pclass correlation with our dependent variable, Survived. The correlation between Pclass and Survived is -0.33. This can also be explained by saying that first class passenger had a better chance of surviving than the second or the third and so on.\n",
        "\n",
        "However, the most significant correlation with our dependent variable is the Sex variable, which is the info on whether the passenger was male or female. This negative correlation with a magnitude of -0.54 which points towards some undeniable insights. Let's do some statistics to see how statistically significant this correlation is.\n",
        "\n",
        "## 4b. Statistical Test for Correlation\n",
        "\n",
        "<a id=\"statistical_test\"></a>\n",
        "\n",
        "---\n",
        "\n",
        "Statistical tests are the scientific way to prove the validation of theories. In any case, when we look at the data, we seem to have an intuitive understanding of where data is leading us. However, when we do statistical tests, we get a scientific or mathematical perspective of how significant these results are. Let's apply some of these methods and see how we are doing with our predictions.\n",
        "\n",
        "### Hypothesis Testing Outline\n",
        "\n",
        "A hypothesis test compares the mean of a control group and experimental group and tries to find out whether the two sample means are different from each other and if they are different, how significant that difference is.\n",
        "\n",
        "A **hypothesis test** usually consists of multiple parts:\n",
        "\n",
        "1. Formulate a well-developed research problem or question: The hypothesis test usually starts with a concrete and well-developed researched problem. We need to ask the right question that can be answered using statistical analysis.\n",
        "2. **The null hypothesis($H_0$) and Alternating hypothesis($H_1$)**:\n",
        "   > - The **null hypothesis($H_0$)** is something that is assumed to be true. It is the status quo. In a null hypothesis, the observations are the result of pure chance. When we set out to experiment, we form the null hypothesis by saying that there is no difference between the means of the control group and the experimental group.\n",
        "   > - An **Alternative hypothesis($H_A$)** is a claim and the opposite of the null hypothesis. It is going against the status quo. In an alternative theory, the observations show a real effect combined with a component of chance variation.\n",
        "3. Determine the **test statistic**: test statistic can be used to assess the truth of the null hypothesis. Depending on the standard deviation we either use t-statistics or z-statistics. In addition to that, we want to identify whether the test is a one-tailed test or two-tailed test. [This](https://support.minitab.com/en-us/minitab/18/help-and-how-to/statistics/basic-statistics/supporting-topics/basics/null-and-alternative-hypotheses/) article explains it pretty well. [This](https://stattrek.com/hypothesis-test/hypothesis-testing.aspx) article is pretty good as well.\n",
        "\n",
        "4. Specify a **Significance level** and **Confidence Interval**: The significance level($\\alpha$) is the probability of rejecting a null hypothesis when it is true. In other words, we are **_comfortable/confident_** with rejecting the null hypothesis a significant amount of times even though it is true. This considerable amount is our Significant level. In addition to that, Significance level is one minus our Confidence interval. For example, if we say, our significance level is 5%, then our confidence interval would be (1 - 0.05) = 0.95 or 95%.\n",
        "\n",
        "5. Compute the **T-Statistics/Z-Statistics**: Computing the t-statistics follows a simple equation. This equation slightly differs depending on one sample test or two sample test\n",
        "\n",
        "6. Compute the **P-value**: P-value is the probability that a test statistic at least as significant as the one observed would be obtained assuming that the null hypothesis is correct. The p-value is known to be unintuitive, and even many professors are known to explain it wrong. I think this [video](https://www.youtube.com/watch?v=E4KCfcVwzyw) explains the p-value well. **The smaller the P-value, the stronger the evidence against the null hypothesis.**\n",
        "\n",
        "7. **Describe the result and compare the p-value with the significance value($\\alpha$)**: If p<=$\\alpha$, then the observed effect is statistically significant, the null hypothesis is ruled out, and the alternative hypothesis is valid. However if the p> $\\alpha$, we say that, we fail to reject the null hypothesis. Even though this sentence is grammatically wrong, it is logically right. We never accept the null hypothesis just because we are doing the statistical test with sample data points.\n",
        "\n",
        "We will follow each of these steps above to do your hypothesis testing below.\n",
        "\n",
        "P.S. Khan Academy has a set of videos that I think are intuative and helped me understand conceptually.\n",
        "\n",
        "---\n",
        "\n",
        "### Hypothesis testing for Titanic\n",
        "\n",
        "#### Formulating a well developed researched question:\n",
        "\n",
        "Regarding this dataset, we can formulate the null hypothesis and alternative hypothesis by asking the following questions.\n",
        "\n",
        "> - **Is there a significant difference in the mean sex between the passenger who survived and passenger who did not survive?**.\n",
        "> - **Is there a substantial difference in the survival rate between the male and female passengers?**\n",
        "\n",
        "#### The Null Hypothesis and The Alternative Hypothesis:\n",
        "\n",
        "We can formulate our hypothesis by asking questions differently. However, it is essential to understand what our end goal is. Here our dependent variable or target variable is **Survived**. Therefore, we say\n",
        "\n",
        "> ** Null Hypothesis($H_0$):** There is no difference in the survival rate between the male and female passengers. or the mean difference between male and female passenger in the survival rate is zero.  \n",
        ">  ** Alternative Hypothesis($H_A$):** There is a difference in the survival rate between the male and female passengers. or the mean difference in the survival rate between male and female is not zero.\n",
        "\n",
        "Onc thing we can do is try to set up the Null and Alternative Hypothesis in such way that, when we do our t-test, we can choose to do one tailed test. According to [this](https://support.minitab.com/en-us/minitab/18/help-and-how-to/statistics/basic-statistics/supporting-topics/basics/null-and-alternative-hypotheses/) article, one-tailed tests are more powerful than two-tailed test. In addition to that, [this](https://www.youtube.com/watch?v=5NcMFlrnYp8&list=PLIeGtxpvyG-LrjxQ60pxZaimkaKKs0zGF) video is also quite helpful understanding these topics. with this in mind we can update/modify our null and alternative hypothesis. Let's see how we can rewrite this..\n",
        "\n",
        "> **Null Hypothesis(H0):** male mean is greater or equal to female mean.\n",
        "\n",
        "> **Alternative Hypothesis(H1):** male mean is less than female mean.\n",
        "\n",
        "#### Determine the test statistics:\n",
        "\n",
        "> This will be a two-tailed test since the difference between male and female passenger in the survival rate could be higher or lower than 0.\n",
        "> Since we do not know the standard deviation($\\sigma$) and n is small, we will use the t-distribution.\n",
        "\n",
        "#### Specify the significance level:\n",
        "\n",
        "> Specifying a significance level is an important step of the hypothesis test. It is an ultimate balance between type 1 error and type 2 error. We will discuss more in-depth about those in another lesson. For now, we have decided to make our significance level($\\alpha$) = 0.05. So, our confidence interval or non-rejection region would be (1 - $\\alpha$)=(1-0.05) = 95%.\n",
        "\n",
        "#### Computing T-statistics and P-value:\n",
        "\n",
        "Let's take a random sample and see the difference."
      ]
    },
    {
      "cell_type": "code",
      "metadata": {},
      "source": [
        "male_mean = DF.mean(train[train.Sex .== 1, :Survived])\n",
        "female_mean = DF.mean(train[train.Sex .== 0, :Survived])\n",
        "\n",
        "println(\"Male survival mean: \", male_mean)\n",
        "println(\"Female survival mean: \", female_mean)\n",
        "println(\"The mean difference between male and female survival rate: \", female_mean - male_mean)"
      ],
      "execution_count": null,
      "outputs": []
    },
    {
      "cell_type": "markdown",
      "metadata": {},
      "source": [
        "Now, we have to understand that those two means are not **the population mean ($\\bar{\\mu}$)**. _The population mean is a statistical term statistician uses to indicate the actual average of the entire group. The group can be any gathering of multiple numbers such as animal, human, plants, money, stocks._ For example, To find the age population mean of Bulgaria; we will have to account for every single person's age and take their age. Which is almost impossible and if we were to go that route; there is no point of doing statistics in the first place. Therefore we approach this problem using sample sets. The idea of using sample set is that; if we take multiple samples of the same population and take the mean of them and put them in a distribution; eventually the distribution start to look more like a **normal distribution**. The more samples we take and the more sample means will be added and, the closer the normal distribution will reach towards population mean. This is where **Central limit theory** comes from. We will go more in depth of this topic later on.\n",
        "\n",
        "Going back to our dataset, like we are saying these means above are part of the whole story. We were given part of the data to train our machine learning models, and the other part of the data was held back for testing. Therefore, It is impossible for us at this point to know the population means of survival for male and females. Situation like this calls for a statistical approach. We will use the sampling distribution approach to do the test. let's take 50 random sample of male and female from our train data."
      ]
    },
    {
      "cell_type": "code",
      "metadata": {},
      "source": [
        "male = train[train.Sex .== 1, :]\n",
        "female = train[train.Sex .== 0, :]\n",
        "\n",
        "# Listas vacías para almacenar las muestras de medias\n",
        "m_mean_samples = Float64[]\n",
        "f_mean_samples = Float64[]\n",
        "\n",
        "# Generar 50 muestras aleatorias\n",
        "for i in 1:50\n",
        "    # Muestreo aleatorio de 50 elementos sin reemplazo\n",
        "    male_sample = StatsBase.sample(male.Survived, 50, replace=false)\n",
        "    female_sample = StatsBase.sample(female.Survived, 50, replace=false)\n",
        "    \n",
        "    push!(m_mean_samples, DF.mean(male_sample))\n",
        "    push!(f_mean_samples, DF.mean(female_sample))\n",
        "end\n",
        "\n",
        "println(\"Male mean sample mean: \", round(DF.mean(m_mean_samples), digits=2))\n",
        "println(\"Female mean sample mean: \", round(DF.mean(f_mean_samples), digits=2))\n",
        "println(\"Difference between male and female mean sample mean: \", \n",
        "        round(DF.mean(f_mean_samples) - DF.mean(m_mean_samples), digits=2))"
      ],
      "execution_count": null,
      "outputs": []
    },
    {
      "cell_type": "markdown",
      "metadata": {},
      "source": [
        "H0: male mean is greater or equal to female mean<br>\n",
        "H1: male mean is less than female mean.\n",
        "\n",
        "According to the samples our male samples ($\\bar{x}_m$) and female samples($\\bar{x}_f$) mean measured difference is ~ 0.55(statistically this is called the point estimate of the male population mean and female population mean). keeping in mind that...\n",
        "\n",
        "- We randomly select 50 people to be in the male group and 50 people to be in the female group.\n",
        "- We know our sample is selected from a broader population(trainning set).\n",
        "- We know we could have totally ended up with a different random sample of males and females.\n",
        "\n",
        "---\n",
        "\n",
        "With all three points above in mind, how confident are we that, the measured difference is real or statistically significant? we can perform a **t-test** to evaluate that. When we perform a **t-test** we are usually trying to find out **an evidence of significant difference between population mean with hypothesized mean(1 sample t-test) or in our case difference between two population means(2 sample t-test).**\n",
        "\n",
        "The **t-statistics** is the measure of a degree to which our groups differ standardized by the variance of our measurements. In order words, it is basically the measure of signal over noise. Let us describe the previous sentence a bit more for clarification. I am going to use [this post](http://blog.minitab.com/blog/statistics-and-quality-data-analysis/what-is-a-t-test-and-why-is-it-like-telling-a-kid-to-clean-up-that-mess-in-the-kitchen) as reference to describe the t-statistics here.\n",
        "\n",
        "#### Calculating the t-statistics\n",
        "\n",
        "# $$t = \\frac{\\bar{x}-\\mu}{\\frac{S} {\\sqrt{n}} }$$\n",
        "\n",
        "Here..\n",
        "\n",
        "- $\\bar{x}$ is the sample mean.\n",
        "- $\\mu$ is the hypothesized mean.\n",
        "- S is the standard deviation.\n",
        "- n is the sample size.\n",
        "\n",
        "1. Now, the denominator of this fraction $(\\bar{x}-\\mu)$ is basically the strength of the signal. where we calculate the difference between hypothesized mean and sample mean. If the mean difference is higher, then the signal is stronger.\n",
        "\n",
        "the numerator of this fraction ** ${S}/ {\\sqrt{n}}$ ** calculates the amount of variation or noise of the data set. Here S is standard deviation, which tells us how much variation is there in the data. n is the sample size.\n",
        "\n",
        "So, according to the explanation above, the t-value or t-statistics is basically measures the strength of the signal(the difference) to the amount of noise(the variation) in the data and that is how we calculate the t-value in one sample t-test. However, in order to calculate between two sample population mean or in our case we will use the follow equation.\n",
        "\n",
        "# $$t = \\frac{\\bar{x}_M - \\bar{x}_F}{\\sqrt {s^2 (\\frac{1}{n_M} + \\frac{1}{n_F})}}$$\n",
        "\n",
        "This equation may seem too complex, however, the idea behind these two are similar. Both of them have the concept of signal/noise. The only difference is that we replace our hypothesis mean with another sample mean and the two sample sizes repalce one sample size.\n",
        "\n",
        "Here..\n",
        "\n",
        "- $\\bar{x}_M$ is the mean of our male group sample measurements.\n",
        "- $ \\bar{x}\\_F$ is the mean of female group samples.\n",
        "- $ n_M$ and $n_F$ are the sample number of observations in each group.\n",
        "- $ S^2$ is the sample variance.\n",
        "\n",
        "It is good to have an understanding of what going on in the background. However, we will use **scipy.stats** to find the t-statistics.\n",
        "\n",
        "#### Compare P-value with $\\alpha$\n",
        "\n",
        "> It looks like the p-value is very small compared to our significance level($\\alpha$)of 0.05. Our observation sample is statistically significant. Therefore, our null hypothesis is ruled out, and our alternative hypothesis is valid, which is \"**There is a significant difference in the survival rate between the male and female passengers.\"**\n",
        "\n",
        "# Part 5: Feature Engineering\n",
        "\n",
        "<a id=\"feature_engineering\"></a>\n",
        "\n",
        "---\n",
        "\n",
        "Feature Engineering is exactly what its sounds like. Sometimes we want to create extra features from with in the features that we have, sometimes we want to remove features that are alike. Features engineering is the simple word for doing all those. It is important to remember that we will create new features in such ways that will not cause **multicollinearity(when there is a relationship among independent variables)** to occur.\n",
        "\n",
        "## name_length\n",
        "\n",
        "**_Creating a new feature \"name_length\" that will take the count of letters of each name_**"
      ]
    },
    {
      "cell_type": "code",
      "metadata": {},
      "source": [
        "train[!, :name_length] = [length(i) for i in train.Name]\n",
        "test[!, :name_length] = [length(i) for i in test.Name]\n",
        "\n",
        "function name_length_group(size)\n",
        "    a = \"\"\n",
        "    if size <= 20\n",
        "        a = \"short\"\n",
        "    elseif size <= 35\n",
        "        a = \"medium\"\n",
        "    elseif size <= 45\n",
        "        a = \"good\"\n",
        "    else\n",
        "        a = \"long\"\n",
        "    end\n",
        "    return a\n",
        "end\n",
        "\n",
        "train[!, :nLength_group] = [name_length_group(x) for x in train.name_length]\n",
        "test[!, :nLength_group] = [name_length_group(x) for x in test.name_length]"
      ],
      "execution_count": null,
      "outputs": []
    },
    {
      "cell_type": "markdown",
      "metadata": {},
      "source": [
        "## title\n",
        "\n",
        "**Getting the title of each name as a new feature. **"
      ]
    },
    {
      "cell_type": "code",
      "metadata": {},
      "source": [
        "train[!, :title] = [split(i, '.')[1] for i in train.Name]\n",
        "train[!, :title] = [split(i, ',')[2] for i in train.title]"
      ],
      "execution_count": null,
      "outputs": []
    },
    {
      "cell_type": "code",
      "metadata": {},
      "source": [
        "println(unique(train.title))"
      ],
      "execution_count": null,
      "outputs": []
    },
    {
      "cell_type": "code",
      "metadata": {},
      "source": [
        "## Let's fix that\n",
        "train[!, :title] = [strip(x) for x in train.title]"
      ],
      "execution_count": null,
      "outputs": []
    },
    {
      "cell_type": "code",
      "metadata": {},
      "source": [
        "## We can also combile all three lines above for test set here\n",
        "test[!, :title] = [strip(split(split(i, '.')[1], ',')[2]) for i in test.Name]\n",
        "## However it is important to be able to write readable code, and the line above is not so readable."
      ],
      "execution_count": null,
      "outputs": []
    },
    {
      "cell_type": "code",
      "metadata": {},
      "source": [
        "## Let's replace some of the rare values with the keyword 'rare' and other word choice of our own.\n",
        "## train Data\n",
        "train[!, :title] = [replace(i, \"Ms\" => \"Miss\") for i in train.title]\n",
        "train[!, :title] = [replace(i, \"Mlle\" => \"Miss\") for i in train.title]\n",
        "train[!, :title] = [replace(i, \"Mme\" => \"Mrs\") for i in train.title]\n",
        "train[!, :title] = [replace(i, \"Dr\" => \"rare\") for i in train.title]\n",
        "train[!, :title] = [replace(i, \"Col\" => \"rare\") for i in train.title]\n",
        "train[!, :title] = [replace(i, \"Major\" => \"rare\") for i in train.title]\n",
        "train[!, :title] = [replace(i, \"Don\" => \"rare\") for i in train.title]\n",
        "train[!, :title] = [replace(i, \"Jonkheer\" => \"rare\") for i in train.title]\n",
        "train[!, :title] = [replace(i, \"Sir\" => \"rare\") for i in train.title]\n",
        "train[!, :title] = [replace(i, \"Lady\" => \"rare\") for i in train.title]\n",
        "train[!, :title] = [replace(i, \"Capt\" => \"rare\") for i in train.title]\n",
        "train[!, :title] = [replace(i, \"the Countess\" => \"rare\") for i in train.title]\n",
        "train[!, :title] = [replace(i, \"Rev\" => \"rare\") for i in train.title]\n",
        "\n",
        "## Now in programming there is a term called DRY(Don't repeat yourself), whenever we are repeating\n",
        "## same code over and over again, there should be a light-bulb turning on in our head and make us think\n",
        "## to code in a way that is not repeating or dull. Let's write a function to do exactly what we\n",
        "## did in the code above, only not repeating and more interesting."
      ],
      "execution_count": null,
      "outputs": []
    },
    {
      "cell_type": "code",
      "metadata": {},
      "source": [
        "## we are writing a function that can help us modify title column\n",
        "\"\"\"\n",
        "    This function helps modifying the title column\n",
        "\"\"\"\n",
        "function name_converted(feature)\n",
        "    result = \"\"\n",
        "    if feature in [\"the Countess\", \"Capt\", \"Lady\", \"Sir\", \"Jonkheer\", \"Don\", \"Major\", \"Col\", \"Rev\", \"Dona\", \"Dr\"]\n",
        "        result = \"rare\"\n",
        "    elseif feature in [\"Ms\", \"Mlle\"]\n",
        "        result = \"Miss\"\n",
        "    elseif feature == \"Mme\"\n",
        "        result = \"Mrs\"\n",
        "    else\n",
        "        result = feature\n",
        "    end\n",
        "    return result\n",
        "end\n",
        "\n",
        "test[!, :title] = [name_converted(x) for x in test.title]\n",
        "train[!, :title] = [name_converted(x) for x in train.title];"
      ],
      "execution_count": null,
      "outputs": []
    },
    {
      "cell_type": "code",
      "metadata": {},
      "source": [
        "println(unique(train.title))\n",
        "println(unique(test.title))"
      ],
      "execution_count": null,
      "outputs": []
    },
    {
      "cell_type": "markdown",
      "metadata": {},
      "source": [
        "## family_size\n",
        "\n",
        "**_Creating a new feature called \"family_size\"._**"
      ]
    },
    {
      "cell_type": "code",
      "metadata": {},
      "source": [
        "## Family_size seems like a good feature to create\n",
        "train[!, :family_size] = train.SibSp + train.Parch .+ 1\n",
        "test[!, :family_size] = test.SibSp + test.Parch .+ 1"
      ],
      "execution_count": null,
      "outputs": []
    },
    {
      "cell_type": "code",
      "metadata": {},
      "source": [
        "## bin the family size.\n",
        "\"\"\"\n",
        "This function groups(loner, small, large) family based on family size\n",
        "\"\"\"\n",
        "function family_group(size)\n",
        "    a = \"\"\n",
        "    if size <= 1\n",
        "        a = \"loner\"\n",
        "    elseif size <= 4\n",
        "        a = \"small\"\n",
        "    else\n",
        "        a = \"large\"\n",
        "    end\n",
        "    return a\n",
        "end"
      ],
      "execution_count": null,
      "outputs": []
    },
    {
      "cell_type": "code",
      "metadata": {},
      "source": [
        "## apply the family_group function in family_size\n",
        "train[!, :family_group] = [family_group(x) for x in train.family_size]\n",
        "test[!, :family_group] = [family_group(x) for x in test.family_size];"
      ],
      "execution_count": null,
      "outputs": []
    },
    {
      "cell_type": "markdown",
      "metadata": {},
      "source": [
        "## is_alone"
      ]
    },
    {
      "cell_type": "code",
      "metadata": {},
      "source": [
        "train[!, :is_alone] = [i < 2 ? 1 : 0 for i in train.family_size]\n",
        "test[!, :is_alone] = [i < 2 ? 1 : 0 for i in test.family_size];"
      ],
      "execution_count": null,
      "outputs": []
    },
    {
      "cell_type": "markdown",
      "metadata": {},
      "source": [
        "## ticket"
      ]
    },
    {
      "cell_type": "code",
      "metadata": {},
      "source": [
        "println(StatsBase.sample(collect(StatsBase.countmap(train.Ticket)), 10))"
      ],
      "execution_count": null,
      "outputs": []
    },
    {
      "cell_type": "markdown",
      "metadata": {},
      "source": [
        "I have yet to figureout how to best manage ticket feature. So, any suggestion would be truly appreciated. For now, I will get rid off the ticket feature."
      ]
    },
    {
      "cell_type": "code",
      "metadata": {},
      "source": [
        "DF.select!(train, DF.Not(:Ticket))\n",
        "DF.select!(test, DF.Not(:Ticket));"
      ],
      "execution_count": null,
      "outputs": []
    },
    {
      "cell_type": "markdown",
      "metadata": {},
      "source": [
        "## calculated_fare"
      ]
    },
    {
      "cell_type": "code",
      "metadata": {},
      "source": [
        "## Calculating fare based on family size.\n",
        "train[!, :calculated_fare] = train.Fare ./ train.family_size\n",
        "test[!, :calculated_fare] = test.Fare ./ test.family_size;"
      ],
      "execution_count": null,
      "outputs": []
    },
    {
      "cell_type": "markdown",
      "metadata": {},
      "source": [
        "Some people have travelled in groups like family or friends. It seems like Fare column kept a record of the total fare rather than the fare of individual passenger, therefore calculated fare will be much handy in this situation.\n",
        "\n",
        "## fare_group\n"
      ]
    },
    {
      "cell_type": "code",
      "metadata": {},
      "source": [
        "\"\"\"\n",
        "    This function creates a fare group based on the fare provided\n",
        "    \"\"\"\n",
        "function fare_group(fare::Float64)\n",
        "    a = \"\"\n",
        "    if fare <= 4\n",
        "        a = \"Very_low\"\n",
        "    elseif fare <= 10\n",
        "        a = \"low\"\n",
        "    elseif fare <= 20\n",
        "        a = \"mid\"\n",
        "    elseif fare <= 45\n",
        "        a = \"high\"\n",
        "    else\n",
        "        a = \"very_high\"\n",
        "    end\n",
        "    return a\n",
        "end\n",
        "\n",
        "train[!, :fare_group] = [fare_group(x) for x in train.calculated_fare]\n",
        "test[!, :fare_group] = [fare_group(x) for x in test.calculated_fare];"
      ],
      "execution_count": null,
      "outputs": []
    },
    {
      "cell_type": "markdown",
      "metadata": {},
      "source": [
        "Fare group was calculated based on <i>calculated_fare</i>. This can further help our cause.\n",
        "\n",
        "## PassengerId\n",
        "\n",
        "It seems like <i>PassengerId</i> column only works as an id in this dataset without any significant effect on the dataset. Let's drop it."
      ]
    },
    {
      "cell_type": "code",
      "metadata": {},
      "source": [
        "DF.select!(train, DF.Not(:PassengerId))\n",
        "DF.select!(test, DF.Not(:PassengerId))"
      ],
      "execution_count": null,
      "outputs": []
    },
    {
      "cell_type": "markdown",
      "metadata": {},
      "source": [
        "## Creating dummy variables\n",
        "\n",
        "You might be wondering what is a dummy variable?\n",
        "\n",
        "Dummy variable is an important **prepocessing machine learning step**. Often times Categorical variables are an important features, which can be the difference between a good model and a great model. While working with a dataset, having meaningful value for example, \"male\" or \"female\" instead of 0's and 1's is more intuitive for us. However, machines do not understand the value of categorical values, for example, in this dataset we have gender male or female, algorithms do not accept categorical variables as input. In order to feed data in a machine learning model, we"
      ]
    },
    {
      "cell_type": "code",
      "metadata": {},
      "source": [
        "function get_dummies(df, columns)\n",
        "    \"\"\"\n",
        "    Creates categorical one hot encoding variables\n",
        "    \"\"\"\n",
        "    result_df = copy(df)\n",
        "    \n",
        "    for col in columns\n",
        "        unique_vals = unique(skipmissing(result_df[!, col]))\n",
        "        \n",
        "        dummy_transforms = [@. col => DF.ByRow(isequal(val)) => Symbol(col, \"_\", val) for val in unique_vals]\n",
        "        \n",
        "        DF.transform!(result_df, dummy_transforms...)\n",
        "        DF.select!(result_df, DF.Not(col))\n",
        "\n",
        "    end\n",
        "    \n",
        "    return result_df\n",
        "end\n",
        "\n",
        "dummy_cols = [:title, :Pclass, :Cabin, :Embarked, :nLength_group, :family_group, :fare_group]\n",
        "train = get_dummies(train, dummy_cols)\n",
        "test = get_dummies(test, dummy_cols);"
      ],
      "execution_count": null,
      "outputs": []
    },
    {
      "cell_type": "code",
      "metadata": {},
      "source": [
        "cols_to_drop = [:family_size, :Name, :Fare, :name_length]\n",
        "DF.select!(train, DF.Not(cols_to_drop))\n",
        "DF.select!(test, DF.Not(cols_to_drop))"
      ],
      "execution_count": null,
      "outputs": []
    },
    {
      "cell_type": "markdown",
      "metadata": {},
      "source": [
        "## age\n",
        "\n",
        "As I promised before, we are going to use Random forest regressor in this section to predict the missing age values. Let's do it"
      ]
    },
    {
      "cell_type": "code",
      "metadata": {},
      "source": [
        "train[.!ismissing.(train.Age), :]"
      ],
      "execution_count": null,
      "outputs": []
    },
    {
      "cell_type": "code",
      "metadata": {},
      "source": [
        "Pkg.add([\"DecisionTree\", \"MLJDecisionTreeInterface\"])\n",
        "import MLJ\n",
        "import MLJModels"
      ],
      "execution_count": null,
      "outputs": []
    },
    {
      "cell_type": "code",
      "metadata": {},
      "source": [
        "age_train_data = train[.!ismissing.(train.Age), :]\n",
        "y_train = DF.collect(age_train_data[:, :Age])"
      ],
      "execution_count": null,
      "outputs": []
    },
    {
      "cell_type": "code",
      "metadata": {},
      "source": [
        "function completing_age(df::DF.DataFrame)\n",
        "    #Prepare data\n",
        "    age_train_data = df[.!ismissing.(df.Age), :]\n",
        "    age_test_data = df[ismissing.(df.Age), :]\n",
        "\n",
        "    features_to_exclude = [:Age]\n",
        "\n",
        "    # exclude \"survived\" from train \n",
        "    if (\"Survived\" in DF.names(df))\n",
        "        push!(features_to_exclude, :Survived)\n",
        "    end\n",
        "\n",
        "    # data prepared from train\n",
        "    X_train = DF.select(age_train_data, DF.Not(features_to_exclude))\n",
        "    y_train = DF.collect(age_train_data.Age)\n",
        "\n",
        "    \n",
        "    # data prepared from test\n",
        "    X_test = DF.select(age_test_data, DF.Not(features_to_exclude))\n",
        "\n",
        "\n",
        "    # model\n",
        "    DecisionTreeRegressor = MLJ.@load RandomForestRegressor pkg=DecisionTree\n",
        "    model = DecisionTreeRegressor()\n",
        "    mach = MLJ.machine(model, X_train, y_train)\n",
        "    MLJ.fit!(mach)\n",
        "\n",
        "    y_hat = MLJ.predict(mach, X_test)\n",
        "\n",
        "    # fill out missing values with prediction\n",
        "    df[ismissing.(df.Age), :Age] = y_hat\n",
        "    df.Age = Float64.(df.Age) #Ensure its not Union{missing} (How is suffer because of not having this line)\n",
        "\n",
        "    return df\n",
        "end"
      ],
      "execution_count": null,
      "outputs": []
    },
    {
      "cell_type": "code",
      "metadata": {},
      "source": [
        "completing_age(train)\n",
        "completing_age(test)"
      ],
      "execution_count": null,
      "outputs": []
    },
    {
      "cell_type": "markdown",
      "metadata": {},
      "source": [
        "Let's take a look at the histogram of the age column."
      ]
    },
    {
      "cell_type": "code",
      "metadata": {},
      "source": [
        "Makie.hist( train.Age, bins=100)"
      ],
      "execution_count": null,
      "outputs": []
    },
    {
      "cell_type": "markdown",
      "metadata": {},
      "source": [
        "## age_group\n",
        "\n",
        "We can create a new feature by grouping the \"Age\" column"
      ]
    },
    {
      "cell_type": "code",
      "metadata": {},
      "source": [
        " \"\"\"\n",
        "    This function creates a bin for age\n",
        "    \"\"\"\n",
        "function age_group_fun(age::Float64)\n",
        "    a = \"\"\n",
        "    if age <= 1\n",
        "        a = \"infant\"\n",
        "    elseif age <= 4\n",
        "        a = \"toddler\"\n",
        "    elseif age <= 13\n",
        "        a = \"child\"\n",
        "    elseif age <= 18\n",
        "        a = \"teenager\"\n",
        "    elseif age <= 35\n",
        "        a = \"Young_Adult\"\n",
        "    elseif age <= 45\n",
        "        a = \"adult\"\n",
        "    elseif age <= 55\n",
        "        a = \"middle_aged\"\n",
        "    elseif age <= 65\n",
        "        a = \"senior_citizen\"\n",
        "    else\n",
        "        a = \"old\"\n",
        "    end\n",
        "    return a\n",
        "end"
      ],
      "execution_count": null,
      "outputs": []
    },
    {
      "cell_type": "code",
      "metadata": {},
      "source": [
        "train[!, :age_group] = [age_group_fun(x) for x in train.Age]\n",
        "test[!, :age_group] = [age_group_fun(x) for x in test.Age]\n",
        "\n",
        "## Creating dummies for \"age_group\" feature.\n",
        "train = get_dummies(train, [:age_group])\n",
        "test = get_dummies(test, [:age_group])"
      ],
      "execution_count": null,
      "outputs": []
    },
    {
      "cell_type": "markdown",
      "metadata": {},
      "source": [
        "<div class=\"alert alert-danger\">\n",
        "<h1>Need to paraphrase this section</h1>\n",
        "<h2>Feature Selection</h2>\n",
        "<h3>Feature selection is an important part of machine learning models. There are many reasons why we use feature selection.</h3> \n",
        "<ul>\n",
        "    <li>Simple models are easier to interpret. People who acts according to model results have a better understanding of the model.</li>\n",
        "    <li>Shorter training times.</li>\n",
        "    <li>Enhanced generalisation by reducing overfitting. </li>\n",
        "    <li>Easier to implement by software developers> model production.</li>\n",
        "        <ul>\n",
        "            <li>As Data Scientists we need to remember no to creating models with too many variables since it might overwhelm production engineers.</li>\n",
        "    </ul>\n",
        "    <li>Reduced risk of data errors during model use</li>\n",
        "    <li>Data redundancy</li>\n",
        "</ul>\n",
        "</div>\n",
        "\n",
        "# Part 6: Pre-Modeling Tasks\n",
        "\n",
        "## 6a. Separating dependent and independent variables\n",
        "\n",
        "<a id=\"dependent_independent\"></a>\n",
        "\n",
        "---\n",
        "\n",
        "Before we apply any machine learning models, It is important to separate dependent and independent variables. Our dependent variable or target variable is something that we are trying to find, and our independent variable is the features we use to find the dependent variable. The way we use machine learning algorithm in a dataset is that we train our machine learning model by specifying independent variables and dependent variable. To specify them, we need to separate them from each other, and the code below does just that.\n",
        "\n",
        "P.S. In our test dataset, we do not have a dependent variable feature. We are to predict that using machine learning models."
      ]
    },
    {
      "cell_type": "code",
      "metadata": {},
      "source": [
        "# separating our independent and dependent variable\n",
        "X = DF.select(train, DF.Not(:Survived))\n",
        "y = train.Survived;"
      ],
      "execution_count": null,
      "outputs": []
    },
    {
      "cell_type": "markdown",
      "metadata": {},
      "source": [
        "## 6b. Splitting the training data\n",
        "\n",
        "<a id=\"split_training_data\" ></a>\n",
        "\n",
        "---\n",
        "\n",
        "There are multiple ways of splitting data. They are...\n",
        "\n",
        "- train_test_split.\n",
        "- cross_validation.\n",
        "\n",
        "We have separated dependent and independent features; We have separated train and test data. So, why do we still have to split our training data? If you are curious about that, I have the answer. For this competition, when we train the machine learning algorithms, we use part of the training set usually two-thirds of the train data. Once we train our algorithm using 2/3 of the train data, we start to test our algorithms using the remaining data. If the model performs well we dump our test data in the algorithms to predict and submit the competition. The code below, basically splits the train data into 4 parts, **X_train**, **X_test**, **y_train**, **y_test**.\n",
        "\n",
        "- **X_train** and **y_train** first used to train the algorithm.\n",
        "- then, **X_test** is used in that trained algorithms to predict **outcomes. **\n",
        "- Once we get the **outcomes**, we compare it with **y_test**\n",
        "\n",
        "By comparing the **outcome** of the model with **y_test**, we can determine whether our algorithms are performing well or not. As we compare we use confusion matrix to determine different aspects of model performance.\n",
        "\n",
        "P.S. When we use cross validation it is important to remember not to use **X_train, X_test, y_train and y_test**, rather we will use **X and y**. I will discuss more on that."
      ]
    },
    {
      "cell_type": "code",
      "metadata": {},
      "source": [
        "using Random\n",
        "Random.seed!(0)\n",
        "\n",
        "# We convert de datatype for better integration with models\n",
        "y = MLJ.coerce(y, MLJ.Multiclass)  \n",
        "# We convert all features to continous, ex. (false true) -> (0, 1)\n",
        "X = MLJ.coerce(X, MLJ.Count => MLJ.Continuous, MLJ.OrderedFactor => MLJ.Continuous)  \n",
        "\n",
        "\n",
        "(X_train, X_test), (y_train, y_test) = MLJ.partition((X, y), 0.67, shuffle=true, multi=true);"
      ],
      "execution_count": null,
      "outputs": []
    },
    {
      "cell_type": "code",
      "metadata": {},
      "source": [
        "size(X_train)"
      ],
      "execution_count": null,
      "outputs": []
    },
    {
      "cell_type": "code",
      "metadata": {},
      "source": [
        "size(X_test)"
      ],
      "execution_count": null,
      "outputs": []
    },
    {
      "cell_type": "markdown",
      "metadata": {},
      "source": [
        "## 6c. Feature Scaling\n",
        "\n",
        "<a id=\"feature_scaling\" ></a>\n",
        "\n",
        "---\n",
        "\n",
        "Feature scaling is an important concept of machine learning models. Often times a dataset contain features highly varying in magnitude and unit. For some machine learning models, it is not a problem. However, for many other ones, its quite a problem. Many machine learning algorithms uses euclidian distances to calculate the distance between two points, it is quite a problem. Let's again look at a the sample of the **train** dataset below.\n"
      ]
    },
    {
      "cell_type": "code",
      "metadata": {},
      "source": [
        "sample = shuffle(1:DF.nrow(X_train))[1:5] \n",
        "X_train[sample, :]"
      ],
      "execution_count": null,
      "outputs": []
    },
    {
      "cell_type": "markdown",
      "metadata": {},
      "source": [
        "Here **Age** and **Calculated_fare** is much higher in magnitude compared to others machine learning features. This can create problems as many machine learning models will get confused thinking **Age** and **Calculated_fare** have higher weight than other features. Therefore, we need to do feature scaling to get a better result.\n",
        "There are multiple ways to do feature scaling.\n",
        "\n",
        "<ul>\n",
        "    <li><b>MinMaxScaler</b>-Scales the data using the max and min values so that it fits between 0 and 1.</li>\n",
        "    <li><b>StandardScaler</b>-Scales the data so that it has mean 0 and variance of 1.</li>\n",
        "    <li><b>RobustScaler</b>-Scales the data similary to Standard Scaler, but makes use of the median and scales using the interquertile range so as to aviod issues with large outliers.</b>\n",
        " </ul>\n",
        "I will discuss more on that in a different kernel. For now we will use <b>Standard Scaler</b> to feature scale our dataset.\n",
        "\n",
        "P.S. I am showing a sample of both before and after so that you can see how scaling changes the dataset.\n",
        "\n",
        "<h3><font color=\"$5831bc\" face=\"Comic Sans MS\">Before Scaling</font></h3>"
      ]
    },
    {
      "cell_type": "code",
      "metadata": {},
      "source": [
        "print(DF.names(X_train))\n",
        "DF.first(X_train, 5)"
      ],
      "execution_count": null,
      "outputs": []
    },
    {
      "cell_type": "code",
      "metadata": {},
      "source": [
        "Standardizer = MLJ.@load Standardizer pkg=MLJModels\n",
        "standardizer = Standardizer()\n",
        "mach_scaler = MLJ.machine(standardizer, X_train)\n",
        "\n",
        "MLJ.fit!(mach_scaler)\n",
        "X_train_scaled = MLJ.transform(mach_scaler, X_train)\n",
        "X_test_scaled = MLJ.transform(mach_scaler, X_test);"
      ],
      "execution_count": null,
      "outputs": []
    },
    {
      "cell_type": "markdown",
      "metadata": {},
      "source": [
        "<h3><font color=\"#5831bc\" face=\"Comic Sans MS\">After Scaling</font></h3>\n",
        "\n",
        "You can see how the features have transformed above.\n",
        "\n",
        "### NOTE: In this example, in difference with the original notebook, the categorical and boolean columns were not transformed, as it doesnt affect negativaly the model \n",
        "\n",
        "# Part 7: Modeling the Data\n",
        "\n",
        "<a id=\"modelingthedata\"></a>\n",
        "\n",
        "---\n",
        "\n",
        "In the previous versions of this kernel, I thought about explaining each model before applying it. However, this process makes this kernel too lengthy to sit and read at one go. Therefore I have decided to break this kernel down and explain each algorithm in a different kernel and add the links here. If you like to review logistic regression, please click [here](https://www.kaggle.com/masumrumi/logistic-regression-with-titanic-dataset)."
      ]
    },
    {
      "cell_type": "code",
      "metadata": {},
      "source": [
        "Pkg.add(\"MLJLinearModels\")"
      ],
      "execution_count": null,
      "outputs": []
    },
    {
      "cell_type": "code",
      "metadata": {},
      "source": [
        "LogisticClassifier = MLJ.@load LogisticClassifier pkg=MLJLinearModels\n",
        "\n",
        "logreg = LogisticClassifier(penalty=:l1)\n",
        "mach_logreg = MLJ.machine(logreg, X_train_scaled, y_train)\n",
        "MLJ.fit!(mach_logreg)\n",
        "\n",
        "y_prob = MLJ.predict(mach_logreg, X_test_scaled);\n",
        "# y_prob Has the raw predictions -> [0.13, 0.4, 0.75] etc\n",
        "# MLJ.mode.(y_prob) has the categorical predictions -> [0, 0, 1] etc\n",
        "y_pred = MLJ.mode.(y_prob)"
      ],
      "execution_count": null,
      "outputs": []
    },
    {
      "cell_type": "markdown",
      "metadata": {},
      "source": [
        "<h1><font color=\"#5831bc\" face=\"Comic Sans MS\">Evaluating a classification model</font></h1>\n",
        "\n",
        "There are multiple ways to evaluate a classification model.\n",
        "\n",
        "- Confusion Matrix.\n",
        "- ROC Curve\n",
        "- AUC Curve.\n",
        "\n",
        "## Confusion Matrix\n",
        "\n",
        "<b>Confusion matrix</b>, a table that <b>describes the performance of a classification model</b>. Confusion Matrix tells us how many our model predicted correctly and incorrectly in terms of binary/multiple outcome classes by comparing actual and predicted cases. For example, in terms of this dataset, our model is a binary one and we are trying to classify whether the passenger survived or not survived. we have fit the model using **X_train** and **y_train** and predicted the outcome of **X_test** in the variable **y_pred**. So, now we will use a confusion matrix to compare between **y_test** and **y_pred**. Let's do the confusion matrix.\n"
      ]
    },
    {
      "cell_type": "code",
      "metadata": {},
      "source": [
        "conf_matrix = MLJ.confusion_matrix(y_pred, y_test)"
      ],
      "execution_count": null,
      "outputs": []
    },
    {
      "cell_type": "markdown",
      "metadata": {},
      "source": [
        "Our **y_test** has a total of 294 data points; part of the original train set that we splitted in order to evaluate our model. Each number here represents certain details about our model. If we were to think about this interms of column and raw, we could see that...\n",
        "\n",
        "- the first column is of data points that the machine predicted as not-survived.\n",
        "- the second column is of the statistics that the model predicted as survievd.\n",
        "- In terms of raws, the first raw indexed as \"Not-survived\" means that the value in that raw are actual statistics of not survived once.\n",
        "- and the \"Survived\" indexed raw are values that actually survived.\n",
        "\n",
        "Now you can see that the predicted not-survived and predicted survived sort of overlap with actual survived and actual not-survived. After all it is a matrix and we have some terminologies to call these statistics more specifically. Let's see what they are\n",
        "\n",
        "<ul style=\"list-style-type:square;\">\n",
        "    <li><b>True Positive(TP)</b>: values that the model predicted as yes(survived) and is actually yes(survived).</li>\n",
        "    <li><b>True Negative(TN)</b>: values that model predicted as no(not-survived) and is actually no(not-survived)</li>\n",
        "    <li><b>False Positive(or Type I error)</b>: values that model predicted as yes(survived) but actually no(not-survived)</li>\n",
        "    <li><b>False Negative(or Type II error)</b>: values that model predicted as no(not-survived) but actually yes(survived)</li>\n",
        "</ul>\n",
        "\n",
        "For this dataset, whenever the model is predicting something as yes, it means the model is predicting that the passenger survived and for cases when the model predicting no; it means the passenger did not survive. Let's determine the value of all these terminologies above.\n",
        "\n",
        "<ul style=\"list-style-type:square;\">\n",
        "    <li><b>True Positive(TP):85</b></li>\n",
        "    <li><b>True Negative(TN):158</b></li>\n",
        "    <li><b>False Positive(FP):28</b></li>\n",
        "    <li><b>False Negative(FN):22</b></li>\n",
        "</ul>\n",
        "From these four terminologies, we can compute many other rates that are used to evaluate a binary classifier.\n",
        "\n",
        "#### Accuracy:\n",
        "\n",
        "** Accuracy is the measure of how often the model is correct.**\n",
        "\n",
        "- (TP + TN)/total = (85+158)/293 = .829\n",
        "\n",
        "We can also calculate accuracy score using scikit learn."
      ]
    },
    {
      "cell_type": "code",
      "metadata": {},
      "source": [
        "MLJ.accuracy(y_pred, y_test)"
      ],
      "execution_count": null,
      "outputs": []
    },
    {
      "cell_type": "markdown",
      "metadata": {},
      "source": [
        "**Misclassification Rate:** Misclassification Rate is the measure of how often the model is wrong\\*\\*\n",
        "\n",
        "- Misclassification Rate and Accuracy are opposite of each other.\n",
        "- Missclassification is equivalent to 1 minus Accuracy.\n",
        "- Misclassification Rate is also known as \"Error Rate\".\n",
        "\n",
        "> (FP + FN)/Total = (28+22)/293 = 0.17\n",
        "\n",
        "**True Positive Rate/Recall/Sensitivity:** How often the model predicts yes(survived) when it's actually yes(survived)?\n",
        "\n",
        "> TP/(TP+FN) = 85/(85+22) = 0.794392523364486"
      ]
    },
    {
      "cell_type": "code",
      "metadata": {},
      "source": [
        "MLJ.recall(y_pred, y_test)"
      ],
      "execution_count": null,
      "outputs": []
    },
    {
      "cell_type": "markdown",
      "metadata": {},
      "source": [
        "**False Positive Rate:** How often the model predicts yes(survived) when it's actually no(not-survived)?\n",
        "\n",
        "> FP/(FP+TN) = 28/(28+158) = 0.1505376344\n",
        "\n",
        "**True Negative Rate/Specificity:** How often the model predicts no(not-survived) when it's actually no(not-survived)?\n",
        "\n",
        "- True Negative Rate is equivalent to 1 minus False Positive Rate.\n",
        "\n",
        "> TN/(TN+FP) = 158/(158+28) = 0.84946236559\n",
        "\n",
        "**Precision:** How often is it correct when the model predicts yes.\n",
        "\n",
        "> TP/(TP+FP) = 85/(85+28) = 0.75221238938"
      ]
    },
    {
      "cell_type": "code",
      "metadata": {},
      "source": [
        "MLJ.ppv(y_pred, y_test)  # aka precision"
      ],
      "execution_count": null,
      "outputs": []
    },
    {
      "cell_type": "code",
      "metadata": {},
      "source": [
        "function simple_classification_report(y_true, y_pred)\n",
        "    println(\"Classification Report:\")\n",
        "    println(\"======================\")\n",
        "    \n",
        "    # Métricas principales\n",
        "    println(\"Accuracy: \", round(MLJ.accuracy(y_pred, y_true), digits=4))\n",
        "    println(\"Balanced Accuracy: \", round(MLJ.balanced_accuracy(y_pred, y_true), digits=4))\n",
        "    println(\"F1 Score: \", round(MLJ.f1score(y_pred, y_true), digits=4))\n",
        "    println(\"  Precision: \", round(MLJ.positive_predictive_value(y_pred, y_true), digits=4))\n",
        "    println(\"  Recall:    \", round(MLJ.true_positive_rate(y_pred, y_true), digits=4))\n",
        "end\n",
        "\n",
        "# Usar la función\n",
        "simple_classification_report(y_test, y_pred)"
      ],
      "execution_count": null,
      "outputs": []
    },
    {
      "cell_type": "markdown",
      "metadata": {},
      "source": [
        "we have our confusion matrix. How about we give it a little more character."
      ]
    },
    {
      "cell_type": "code",
      "metadata": {},
      "source": [
        "fig = Makie.Figure()\n",
        "ax = Makie.Axis(fig[1, 1], \n",
        "    title = \"Confusion Matrix\",  \n",
        "    xticks=((1:2),[\"Actual 0\", \"Actual 1\"]), \n",
        "    yticks=((1:2), [\"Predicted 0\", \"Predicted 1\"]),\n",
        ")\n",
        "\n",
        "hm = Makie.heatmap!(ax, (1:2), (1:2), conf_matrix.mat, colormap=\"Blues\")\n",
        "\n",
        "for i in 1:2\n",
        "    for j in 1:2\n",
        "        text_val = conf_matrix.mat[j, i]\n",
        "        \n",
        "        Makie.text!(ax, i, j, \n",
        "            text = string(round(text_val, digits=2)),\n",
        "            color = abs(text_val) > 100 ? :white : :black,\n",
        "            align = (:center, :center)\n",
        "        )\n",
        "    end\n",
        "end\n",
        "\n",
        "Makie.Colorbar(fig[1, 2], hm, \n",
        "    label = \"Counts\",\n",
        ")\n",
        "\n",
        "fig"
      ],
      "execution_count": null,
      "outputs": []
    },
    {
      "cell_type": "markdown",
      "metadata": {},
      "source": [
        "<h1>AUC & ROC Curve</h1>"
      ]
    },
    {
      "cell_type": "code",
      "metadata": {},
      "source": [
        "fig = Makie.Figure()\n",
        "ax = Makie.Axis(fig[1, 1],\n",
        "    title = \"ROC Curve\",\n",
        "    xlabel = \"False Positive Rate\",\n",
        "    ylabel = \"True Positive Rate\",\n",
        "   \n",
        ")\n",
        "fpr, tpr, _ = MLJ.roc_curve(y_prob, y_test)\n",
        "\n",
        "Makie.lines!(ax, fpr, tpr,\n",
        "    label = \"ROC Curve\",\n",
        "    linewidth=4\n",
        ")\n",
        "Makie.ablines!(ax, 0, 1,\n",
        "    color = :black,\n",
        "    linestyle=:dash,\n",
        ")\n",
        "fig"
      ],
      "execution_count": null,
      "outputs": []
    },
    {
      "cell_type": "markdown",
      "metadata": {},
      "source": [
        "ROC:"
      ]
    },
    {
      "cell_type": "code",
      "metadata": {},
      "source": [
        "roc_auc = MLJ.auc(y_prob, y_test)"
      ],
      "execution_count": null,
      "outputs": []
    },
    {
      "cell_type": "markdown",
      "metadata": {},
      "source": [
        "## Using Cross-validation:\n",
        "\n",
        "Pros:\n",
        "\n",
        "- Helps reduce variance.\n",
        "- Expands models predictability."
      ]
    },
    {
      "cell_type": "code",
      "metadata": {},
      "source": [
        "mach_standarizer = MLJ.machine(standardizer, X)\n",
        "MLJ.fit!(mach_standarizer)\n",
        "X = MLJ.transform(mach_standarizer, X)"
      ],
      "execution_count": null,
      "outputs": []
    },
    {
      "cell_type": "code",
      "metadata": {},
      "source": [
        "cv = MLJ.StratifiedCV(nfolds=10, shuffle=true, rng=0)\n",
        "\n",
        "logreg = LogisticClassifier(penalty=:l2)\n",
        "mach_logreg = MLJ.machine(logreg, X_scaled, y)\n",
        "MLJ.fit!(mach_logreg)\n",
        "\n",
        "evaluation = MLJ.evaluate!(mach_logreg, resampling=cv, verbosity=0, measure=[MLJ.Accuracy()]);\n",
        "\n",
        "println(\"Cross-Validation accuracy scores: \", evaluation.per_fold)\n",
        "println(\"Mean Cross-Validation accuracy score: \", MLJ.mean(evaluation.per_fold[1]))"
      ],
      "execution_count": null,
      "outputs": []
    },
    {
      "cell_type": "markdown",
      "metadata": {},
      "source": [
        "## Grid Search on Logistic Regression\n",
        "\n",
        "- What is grid search?\n",
        "- What are the pros and cons?\n",
        "\n",
        "**Gridsearch** is a simple concept but effective technique in Machine Learning. The word **GridSearch** stands for the fact that we are searching for optimal parameter/parameters over a \"grid.\" These optimal parameters are also known as **Hyperparameters**. **The Hyperparameters are model parameters that are set before fitting the model and determine the behavior of the model.**. For example, when we choose to use linear regression, we may decide to add a penalty to the loss function such as Ridge or Lasso. These penalties require specific alpha (the strength of the regularization technique) to set beforehand. The higher the value of alpha, the more penalty is being added. GridSearch finds the optimal value of alpha among a range of values provided by us, and then we go on and use that optimal value to fit the model and get sweet results. It is essential to understand those model parameters are different from models outcomes, for example, **coefficients** or model evaluation metrics such as **accuracy score** or **mean squared error** are model outcomes and different than hyperparameters.\n",
        "\n",
        "#### This part of the kernel is a working progress. Please check back again for future updates.####"
      ]
    },
    {
      "cell_type": "code",
      "metadata": {},
      "source": [
        "Random.seed!(30)\n",
        "\n",
        "logreg = LogisticClassifier()\n",
        "lambda_vals = exp10.(range(log10(0.01), stop=log10(0.1), length=50))\n",
        "penalties = [:l1, :l2]\n",
        "\n",
        "ranges = [\n",
        "    range(logreg, :lambda, values = lambda_vals),\n",
        "    range(logreg, :penalty, values = penalties)\n",
        "]\n",
        "\n",
        "\n",
        "cv = MLJ.StratifiedCV(nfolds=10, shuffle=true, rng=123)\n",
        "\n",
        "tuned_logreg = MLJ.TunedModel(\n",
        "    model=logreg,\n",
        "    tuning=MLJ.Grid(resolution=1),\n",
        "    resampling=cv,\n",
        "    range=ranges,\n",
        "    measure=MLJ.Accuracy(),  \n",
        "    acceleration=MLJ.CPUThreads(), \n",
        "    acceleration_resampling=MLJ.CPUThreads()\n",
        ")\n",
        "\n",
        "# 5. Crear y entrenar la máquina\n",
        "mach = MLJ.machine(tuned_logreg, X, y)\n",
        "MLJ.fit!(mach)"
      ],
      "execution_count": null,
      "outputs": []
    },
    {
      "cell_type": "code",
      "metadata": {},
      "source": [
        "best_model = MLJ.fitted_params(mach).best_model\n",
        "println(\"Mejores parámetros: \")\n",
        "println(\"  lambda = \", best_model.lambda)\n",
        "println(\"  penalty = \", best_model.penalty)\n",
        "\n",
        "MLJ.report(mach).best_history_entry"
      ],
      "execution_count": null,
      "outputs": []
    },
    {
      "cell_type": "markdown",
      "metadata": {},
      "source": [
        "#### Using the best parameters from the grid-search."
      ]
    },
    {
      "cell_type": "code",
      "metadata": {},
      "source": [
        "#MLJ.predict(mach, X_test) # the mach already has the best model"
      ],
      "execution_count": null,
      "outputs": []
    },
    {
      "cell_type": "markdown",
      "metadata": {},
      "source": [
        "#### This concludes the Julia notebook. As you can see, the interface and structure for building models are very similar to Python. The notebook now continues with the original Python examples. Hope you enjoy reading the notebook 😊\n",
        "\n",
        "####\n",
        "\n",
        "Resources:\n",
        "\n",
        "\n",
        "\n",
        "### Under-fitting & Over-fitting:\n",
        "\n",
        "\n",
        "- [Confusion Matrix](https://www.youtube.com/watch?v=8Oog7TXHvFY)\n",
        "So, we have our first model and its score. But, how do we make sure that our model is performing well. Our model may be overfitting or underfitting. In fact, for those of you don't know what overfitting and underfitting is, Let's find out.\n",
        "\n",
        "![](https://cdncontribute.geeksforgeeks.org/wp-content/uploads/fittings.jpg)\n",
        "\n",
        "As you see in the chart above. **Underfitting** is when the model fails to capture important aspects of the data and therefore introduces more bias and performs poorly. On the other hand, **Overfitting** is when the model performs too well on the training data but does poorly in the validation set or test sets. This situation is also known as having less bias but more variation and perform poorly as well. Ideally, we want to configure a model that performs well not only in the training data but also in the test data. This is where **bias-variance tradeoff** comes in. When we have a model that overfits, meaning less biased and more of variance, we introduce some bias in exchange of having much less variance. One particular tactic for this task is regularization models (Ridge, Lasso, Elastic Net). These models are built to deal with the bias-variance tradeoff. This [kernel](https://www.kaggle.com/dansbecker/underfitting-and-overfitting) explains this topic well. Also, the following chart gives us a mental picture of where we want our models to be.\n",
        "![](http://scott.fortmann-roe.com/docs/docs/BiasVariance/biasvariance.png)\n",
        "\n",
        "Ideally, we want to pick a sweet spot where the model performs well in training set, validation set, and test set. As the model gets complex, bias decreases, variance increases. However, the most critical part is the error rates. We want our models to be at the bottom of that **U** shape where the error rate is the least. That sweet spot is also known as **Optimum Model Complexity(OMC).**\n",
        "\n",
        "Now that we know what we want in terms of under-fitting and over-fitting, let's talk about how to combat them.\n",
        "\n",
        "How to combat over-fitting?\n",
        "\n",
        "<ul>\n",
        "    <li>Simplify the model by using less parameters.</li>\n",
        "    <li>Simplify the model by changing the hyperparameters.</li>\n",
        "    <li>Introducing regularization models. </li>\n",
        "    <li>Use more training data. </li>\n",
        "    <li>Gatter more data ( and gather better quality data). </li>\n",
        "    </ul>\n",
        " #### This part of the kernel is a working progress. Please check back again for future updates.####\n",
        "\n",
        "## 7b. K-Nearest Neighbor classifier(KNN)\n",
        "\n",
        "<a id=\"knn\"></a>\n",
        "\n",
        "---"
      ]
    },
    {
      "cell_type": "code",
      "metadata": {
        "_uuid": "953bc2c18b5fd93bcd51a42cc04a0539d86d5bac",
        "execution": {
          "iopub.execute_input": "2021-06-26T16:35:40.216328Z",
          "iopub.status.busy": "2021-06-26T16:35:40.215853Z",
          "iopub.status.idle": "2021-06-26T16:35:40.416985Z",
          "shell.execute_reply": "2021-06-26T16:35:40.416038Z",
          "shell.execute_reply.started": "2021-06-26T16:35:40.216141Z"
        }
      },
      "source": [
        "## Importing the model.\n",
        "from sklearn.neighbors import KNeighborsClassifier\n",
        "## calling on the model oject.\n",
        "knn = KNeighborsClassifier(metric='minkowski', p=2)\n",
        "## knn classifier works by doing euclidian distance\n",
        "\n",
        "\n",
        "## doing 10 fold staratified-shuffle-split cross validation\n",
        "cv = StratifiedShuffleSplit(n_splits=10, test_size=.25, random_state=2)\n",
        "\n",
        "accuracies = cross_val_score(knn, X,y, cv = cv, scoring='accuracy')\n",
        "print (\"Cross-Validation accuracy scores:{}\".format(accuracies))\n",
        "print (\"Mean Cross-Validation accuracy score: {}\".format(round(accuracies.mean(),3)))"
      ],
      "execution_count": null,
      "outputs": []
    },
    {
      "cell_type": "markdown",
      "metadata": {},
      "source": [
        "#### Manually find the best possible k value for KNN"
      ]
    },
    {
      "cell_type": "code",
      "metadata": {
        "_uuid": "9c0f44165e08f63ae5436180c5a7182e6db5c63f",
        "execution": {
          "iopub.execute_input": "2021-06-26T16:35:40.418857Z",
          "iopub.status.busy": "2021-06-26T16:35:40.418419Z",
          "iopub.status.idle": "2021-06-26T16:35:46.541601Z",
          "shell.execute_reply": "2021-06-26T16:35:46.540815Z",
          "shell.execute_reply.started": "2021-06-26T16:35:40.418687Z"
        }
      },
      "source": [
        "## Search for an optimal value of k for KNN.\n",
        "k_range = range(1,31)\n",
        "k_scores = []\n",
        "for k in k_range:\n",
        "    knn = KNeighborsClassifier(n_neighbors=k)\n",
        "    scores = cross_val_score(knn, X,y, cv = cv, scoring = 'accuracy')\n",
        "    k_scores.append(scores.mean())\n",
        "print(\"Accuracy scores are: {}\\n\".format(k_scores))\n",
        "print (\"Mean accuracy score: {}\".format(np.mean(k_scores)))"
      ],
      "execution_count": null,
      "outputs": []
    },
    {
      "cell_type": "code",
      "metadata": {
        "_uuid": "e123680b431ba99d399fa8205c32bcfdc7cabd81",
        "execution": {
          "iopub.execute_input": "2021-06-26T16:35:46.543234Z",
          "iopub.status.busy": "2021-06-26T16:35:46.542789Z",
          "iopub.status.idle": "2021-06-26T16:35:46.685143Z",
          "shell.execute_reply": "2021-06-26T16:35:46.684141Z",
          "shell.execute_reply.started": "2021-06-26T16:35:46.543184Z"
        }
      },
      "source": [
        "from matplotlib import pyplot as plt\n",
        "plt.plot(k_range, k_scores)"
      ],
      "execution_count": null,
      "outputs": []
    },
    {
      "cell_type": "markdown",
      "metadata": {},
      "source": [
        "### Grid search on KNN classifier"
      ]
    },
    {
      "cell_type": "code",
      "metadata": {
        "_uuid": "507e2a7cdb28a47be45ed247f1343c123a6b592b",
        "execution": {
          "iopub.execute_input": "2021-06-26T16:35:46.687026Z",
          "iopub.status.busy": "2021-06-26T16:35:46.686671Z",
          "iopub.status.idle": "2021-06-26T16:35:55.465245Z",
          "shell.execute_reply": "2021-06-26T16:35:55.464452Z",
          "shell.execute_reply.started": "2021-06-26T16:35:46.686956Z"
        }
      },
      "source": [
        "from sklearn.model_selection import GridSearchCV\n",
        "## trying out multiple values for k\n",
        "k_range = range(1,31)\n",
        "##\n",
        "weights_options=['uniform','distance']\n",
        "#\n",
        "param = {'n_neighbors':k_range, 'weights':weights_options}\n",
        "## Using startifiedShufflesplit.\n",
        "cv = StratifiedShuffleSplit(n_splits=10, test_size=.30, random_state=15)\n",
        "# estimator = knn, param_grid = param, n_jobs = -1 to instruct scikit learn to use all available processors.\n",
        "grid = GridSearchCV(KNeighborsClassifier(), param,cv=cv,verbose = False, n_jobs=-1)\n",
        "## Fitting the model.\n",
        "grid.fit(X,y)"
      ],
      "execution_count": null,
      "outputs": []
    },
    {
      "cell_type": "code",
      "metadata": {
        "_uuid": "c710770daa6cf327dcc28e18b3ed180fabecd49b",
        "execution": {
          "iopub.execute_input": "2021-06-26T16:35:55.466929Z",
          "iopub.status.busy": "2021-06-26T16:35:55.466654Z",
          "iopub.status.idle": "2021-06-26T16:35:55.475348Z",
          "shell.execute_reply": "2021-06-26T16:35:55.474575Z",
          "shell.execute_reply.started": "2021-06-26T16:35:55.466883Z"
        }
      },
      "source": [
        "print(grid.best_score_)\n",
        "print(grid.best_params_)\n",
        "print(grid.best_estimator_)"
      ],
      "execution_count": null,
      "outputs": []
    },
    {
      "cell_type": "markdown",
      "metadata": {},
      "source": [
        "#### Using best estimator from grid search using KNN."
      ]
    },
    {
      "cell_type": "code",
      "metadata": {
        "_uuid": "dd1fbf223c4ec9db65dde4924e2827e46029da1a",
        "execution": {
          "iopub.execute_input": "2021-06-26T16:35:55.477181Z",
          "iopub.status.busy": "2021-06-26T16:35:55.476629Z",
          "iopub.status.idle": "2021-06-26T16:35:55.555736Z",
          "shell.execute_reply": "2021-06-26T16:35:55.554788Z",
          "shell.execute_reply.started": "2021-06-26T16:35:55.476983Z"
        }
      },
      "source": [
        "### Using the best parameters from the grid-search.\n",
        "knn_grid= grid.best_estimator_\n",
        "knn_grid.score(X,y)"
      ],
      "execution_count": null,
      "outputs": []
    },
    {
      "cell_type": "markdown",
      "metadata": {},
      "source": [
        "#### Using RandomizedSearchCV\n",
        "\n",
        "Randomized search is a close cousin of grid search. It doesn't always provide the best result but its fast."
      ]
    },
    {
      "cell_type": "code",
      "metadata": {
        "_uuid": "e159b267a57d7519fc0ee8b3d1e95b841d3daf60",
        "execution": {
          "iopub.execute_input": "2021-06-26T16:35:55.557501Z",
          "iopub.status.busy": "2021-06-26T16:35:55.557097Z",
          "iopub.status.idle": "2021-06-26T16:36:02.332003Z",
          "shell.execute_reply": "2021-06-26T16:36:02.331364Z",
          "shell.execute_reply.started": "2021-06-26T16:35:55.557338Z"
        }
      },
      "source": [
        "from sklearn.model_selection import RandomizedSearchCV\n",
        "## trying out multiple values for k\n",
        "k_range = range(1,31)\n",
        "##\n",
        "weights_options=['uniform','distance']\n",
        "#\n",
        "param = {'n_neighbors':k_range, 'weights':weights_options}\n",
        "## Using startifiedShufflesplit.\n",
        "cv = StratifiedShuffleSplit(n_splits=10, test_size=.30)\n",
        "# estimator = knn, param_grid = param, n_jobs = -1 to instruct scikit learn to use all available processors.\n",
        "## for RandomizedSearchCV,\n",
        "grid = RandomizedSearchCV(KNeighborsClassifier(), param,cv=cv,verbose = False, n_jobs=-1, n_iter=40)\n",
        "## Fitting the model.\n",
        "grid.fit(X,y)"
      ],
      "execution_count": null,
      "outputs": []
    },
    {
      "cell_type": "code",
      "metadata": {
        "_uuid": "c58492525dd18659ef9f9c774ee7601a55e96f36",
        "execution": {
          "iopub.execute_input": "2021-06-26T16:36:02.333632Z",
          "iopub.status.busy": "2021-06-26T16:36:02.333341Z",
          "iopub.status.idle": "2021-06-26T16:36:02.340211Z",
          "shell.execute_reply": "2021-06-26T16:36:02.338113Z",
          "shell.execute_reply.started": "2021-06-26T16:36:02.333572Z"
        }
      },
      "source": [
        "print (grid.best_score_)\n",
        "print (grid.best_params_)\n",
        "print(grid.best_estimator_)"
      ],
      "execution_count": null,
      "outputs": []
    },
    {
      "cell_type": "code",
      "metadata": {
        "_uuid": "6fb31588585d50de773ba0db6c378363841a5313",
        "execution": {
          "iopub.execute_input": "2021-06-26T16:36:02.343117Z",
          "iopub.status.busy": "2021-06-26T16:36:02.34256Z",
          "iopub.status.idle": "2021-06-26T16:36:02.420683Z",
          "shell.execute_reply": "2021-06-26T16:36:02.419712Z",
          "shell.execute_reply.started": "2021-06-26T16:36:02.342922Z"
        }
      },
      "source": [
        "### Using the best parameters from the grid-search.\n",
        "knn_ran_grid = grid.best_estimator_\n",
        "knn_ran_grid.score(X,y)"
      ],
      "execution_count": null,
      "outputs": []
    },
    {
      "cell_type": "markdown",
      "metadata": {},
      "source": [
        "## Gaussian Naive Bayes\n",
        "\n",
        "<a id=\"gaussian_naive\"></a>\n",
        "\n",
        "---"
      ]
    },
    {
      "cell_type": "code",
      "metadata": {
        "_uuid": "8b2435030dbef1303bfc2864d227f5918f359330",
        "execution": {
          "iopub.execute_input": "2021-06-26T16:36:02.422487Z",
          "iopub.status.busy": "2021-06-26T16:36:02.421997Z",
          "iopub.status.idle": "2021-06-26T16:36:02.433216Z",
          "shell.execute_reply": "2021-06-26T16:36:02.43234Z",
          "shell.execute_reply.started": "2021-06-26T16:36:02.422237Z"
        }
      },
      "source": [
        "# Gaussian Naive Bayes\n",
        "from sklearn.naive_bayes import GaussianNB\n",
        "from sklearn.metrics import accuracy_score\n",
        "\n",
        "gaussian = GaussianNB()\n",
        "gaussian.fit(X, y)\n",
        "y_pred = gaussian.predict(X_test)\n",
        "gaussian_accy = round(accuracy_score(y_pred, y_test), 3)\n",
        "print(gaussian_accy)"
      ],
      "execution_count": null,
      "outputs": []
    },
    {
      "cell_type": "markdown",
      "metadata": {},
      "source": [
        "## Support Vector Machines(SVM)\n",
        "\n",
        "<a id=\"svm\"></a>\n",
        "\n",
        "---"
      ]
    },
    {
      "cell_type": "code",
      "metadata": {
        "_uuid": "56895672215b0b6365c6aaa10e446216ef635f53",
        "execution": {
          "iopub.execute_input": "2021-06-26T16:36:02.435838Z",
          "iopub.status.busy": "2021-06-26T16:36:02.435282Z",
          "iopub.status.idle": "2021-06-26T16:37:25.882123Z",
          "shell.execute_reply": "2021-06-26T16:37:25.881483Z",
          "shell.execute_reply.started": "2021-06-26T16:36:02.435553Z"
        }
      },
      "source": [
        "from sklearn.svm import SVC\n",
        "Cs = [0.001, 0.01, 0.1, 1,1.5,2,2.5,3,4,5, 10] ## penalty parameter C for the error term.\n",
        "gammas = [0.0001,0.001, 0.01, 0.1, 1]\n",
        "param_grid = {'C': Cs, 'gamma' : gammas}\n",
        "cv = StratifiedShuffleSplit(n_splits=10, test_size=.30, random_state=15)\n",
        "grid_search = GridSearchCV(SVC(kernel = 'rbf', probability=True), param_grid, cv=cv) ## 'rbf' stands for gaussian kernel\n",
        "grid_search.fit(X,y)"
      ],
      "execution_count": null,
      "outputs": []
    },
    {
      "cell_type": "code",
      "metadata": {
        "_uuid": "4108264ea5d18e3d3fa38a30584a032c734d6d49",
        "execution": {
          "iopub.execute_input": "2021-06-26T16:37:25.8839Z",
          "iopub.status.busy": "2021-06-26T16:37:25.883609Z",
          "iopub.status.idle": "2021-06-26T16:37:25.890029Z",
          "shell.execute_reply": "2021-06-26T16:37:25.889244Z",
          "shell.execute_reply.started": "2021-06-26T16:37:25.883852Z"
        }
      },
      "source": [
        "print(grid_search.best_score_)\n",
        "print(grid_search.best_params_)\n",
        "print(grid_search.best_estimator_)"
      ],
      "execution_count": null,
      "outputs": []
    },
    {
      "cell_type": "code",
      "metadata": {
        "_uuid": "db18a3b5475f03b21a039e31e4962c43f7caffdc",
        "execution": {
          "iopub.execute_input": "2021-06-26T16:37:25.892123Z",
          "iopub.status.busy": "2021-06-26T16:37:25.891542Z",
          "iopub.status.idle": "2021-06-26T16:37:25.934216Z",
          "shell.execute_reply": "2021-06-26T16:37:25.933352Z",
          "shell.execute_reply.started": "2021-06-26T16:37:25.892073Z"
        }
      },
      "source": [
        "# using the best found hyper paremeters to get the score.\n",
        "svm_grid = grid_search.best_estimator_\n",
        "svm_grid.score(X,y)"
      ],
      "execution_count": null,
      "outputs": []
    },
    {
      "cell_type": "markdown",
      "metadata": {},
      "source": [
        "## Decision Tree Classifier\n",
        "\n",
        "Decision tree works by breaking down the dataset into small subsets. This breaking down process is done by asking questions about the features of the datasets. The idea is to unmix the labels by asking fewer questions necessary. As we ask questions, we are breaking down the dataset into more subsets. Once we have a subgroup with only the unique type of labels, we end the tree in that node. If you would like to get a detailed understanding of Decision tree classifier, please take a look at [this](https://www.kaggle.com/masumrumi/decision-tree-with-titanic-dataset) kernel."
      ]
    },
    {
      "cell_type": "code",
      "metadata": {
        "_cell_guid": "38c90de9-d2e9-4341-a378-a854762d8be2",
        "_uuid": "18efb62b713591d1512010536ff10d9f6a91ec11",
        "execution": {
          "iopub.execute_input": "2021-06-26T16:37:25.936111Z",
          "iopub.status.busy": "2021-06-26T16:37:25.935654Z",
          "iopub.status.idle": "2021-06-26T16:37:57.983942Z",
          "shell.execute_reply": "2021-06-26T16:37:57.983035Z",
          "shell.execute_reply.started": "2021-06-26T16:37:25.935918Z"
        }
      },
      "source": [
        "from sklearn.tree import DecisionTreeClassifier\n",
        "max_depth = range(1,30)\n",
        "max_feature = [21,22,23,24,25,26,28,29,30,'auto']\n",
        "criterion=[\"entropy\", \"gini\"]\n",
        "\n",
        "param = {'max_depth':max_depth,\n",
        "         'max_features':max_feature,\n",
        "         'criterion': criterion}\n",
        "grid = GridSearchCV(DecisionTreeClassifier(),\n",
        "                                param_grid = param,\n",
        "                                 verbose=False,\n",
        "                                 cv=StratifiedKFold(n_splits=20, random_state=15, shuffle=True),\n",
        "                                n_jobs = -1)\n",
        "grid.fit(X, y)"
      ],
      "execution_count": null,
      "outputs": []
    },
    {
      "cell_type": "code",
      "metadata": {
        "_cell_guid": "b2222e4e-f5f2-4601-b95f-506d7811610a",
        "_uuid": "b0fb5055e6b4a7fb69ef44f669c4df693ce46212",
        "execution": {
          "iopub.execute_input": "2021-06-26T16:37:57.988346Z",
          "iopub.status.busy": "2021-06-26T16:37:57.988045Z",
          "iopub.status.idle": "2021-06-26T16:37:57.994617Z",
          "shell.execute_reply": "2021-06-26T16:37:57.993662Z",
          "shell.execute_reply.started": "2021-06-26T16:37:57.988287Z"
        },
        "scrolled": true
      },
      "source": [
        "print( grid.best_params_)\n",
        "print (grid.best_score_)\n",
        "print (grid.best_estimator_)"
      ],
      "execution_count": null,
      "outputs": []
    },
    {
      "cell_type": "code",
      "metadata": {
        "_cell_guid": "d731079a-31b4-429a-8445-48597bb2639d",
        "_uuid": "76c26437d374442826ef140574c5c4880ae1e853",
        "execution": {
          "iopub.execute_input": "2021-06-26T16:37:57.996876Z",
          "iopub.status.busy": "2021-06-26T16:37:57.996238Z",
          "iopub.status.idle": "2021-06-26T16:37:58.010892Z",
          "shell.execute_reply": "2021-06-26T16:37:58.010194Z",
          "shell.execute_reply.started": "2021-06-26T16:37:57.996695Z"
        }
      },
      "source": [
        "dectree_grid = grid.best_estimator_\n",
        "## using the best found hyper paremeters to get the score.\n",
        "dectree_grid.score(X,y)"
      ],
      "execution_count": null,
      "outputs": []
    },
    {
      "cell_type": "markdown",
      "metadata": {},
      "source": [
        " <h4> Let's look at the feature importance from decision tree grid.</h4>"
      ]
    },
    {
      "cell_type": "code",
      "metadata": {
        "execution": {
          "iopub.execute_input": "2021-06-26T16:37:58.013756Z",
          "iopub.status.busy": "2021-06-26T16:37:58.01221Z",
          "iopub.status.idle": "2021-06-26T16:37:58.034194Z",
          "shell.execute_reply": "2021-06-26T16:37:58.033436Z",
          "shell.execute_reply.started": "2021-06-26T16:37:58.013683Z"
        }
      },
      "source": [
        "## feature importance\n",
        "feature_importances = pd.DataFrame(dectree_grid.feature_importances_,\n",
        "                                   index = column_names,\n",
        "                                    columns=['importance'])\n",
        "feature_importances.sort_values(by='importance', ascending=False).head(10)"
      ],
      "execution_count": null,
      "outputs": []
    },
    {
      "cell_type": "markdown",
      "metadata": {},
      "source": [
        "These are the top 10 features determined by **Decision Tree** helped classifing the fates of many passenger on Titanic on that night.\n",
        "\n",
        "## 7f. Random Forest Classifier\n",
        "\n",
        "<a id=\"random_forest\"></a>\n",
        "\n",
        "I admire working with decision trees because of the potential and basics they provide towards building a more complex model like Random Forest(RF). RF is an ensemble method (combination of many decision trees) which is where the \"forest\" part comes in. One crucial details about Random Forest is that while using a forest of decision trees, RF model <b>takes random subsets of the original dataset(bootstrapped)</b> and <b>random subsets of the variables(features/columns)</b>. Using this method, the RF model creates 100's-1000's(the amount can be menually determined) of a wide variety of decision trees. This variety makes the RF model more effective and accurate. We then run each test data point through all of these 100's to 1000's of decision trees or the RF model and take a vote on the output."
      ]
    },
    {
      "cell_type": "code",
      "metadata": {
        "execution": {
          "iopub.execute_input": "2021-06-26T16:37:58.040453Z",
          "iopub.status.busy": "2021-06-26T16:37:58.038063Z",
          "iopub.status.idle": "2021-06-26T16:39:53.557817Z",
          "shell.execute_reply": "2021-06-26T16:39:53.556973Z",
          "shell.execute_reply.started": "2021-06-26T16:37:58.040398Z"
        }
      },
      "source": [
        "from sklearn.model_selection import GridSearchCV, StratifiedKFold, StratifiedShuffleSplit\n",
        "from sklearn.ensemble import RandomForestClassifier\n",
        "n_estimators = [140,145,150,155,160];\n",
        "max_depth = range(1,10);\n",
        "criterions = ['gini', 'entropy'];\n",
        "cv = StratifiedShuffleSplit(n_splits=10, test_size=.30, random_state=15)\n",
        "\n",
        "\n",
        "parameters = {'n_estimators':n_estimators,\n",
        "              'max_depth':max_depth,\n",
        "              'criterion': criterions\n",
        "\n",
        "        }\n",
        "grid = GridSearchCV(estimator=RandomForestClassifier(max_features='auto'),\n",
        "                                 param_grid=parameters,\n",
        "                                 cv=cv,\n",
        "                                 n_jobs = -1)\n",
        "grid.fit(X,y)"
      ],
      "execution_count": null,
      "outputs": []
    },
    {
      "cell_type": "code",
      "metadata": {
        "execution": {
          "iopub.execute_input": "2021-06-26T16:39:53.559492Z",
          "iopub.status.busy": "2021-06-26T16:39:53.559192Z",
          "iopub.status.idle": "2021-06-26T16:39:53.567897Z",
          "shell.execute_reply": "2021-06-26T16:39:53.56675Z",
          "shell.execute_reply.started": "2021-06-26T16:39:53.559434Z"
        }
      },
      "source": [
        "print (grid.best_score_)\n",
        "print (grid.best_params_)\n",
        "print (grid.best_estimator_)"
      ],
      "execution_count": null,
      "outputs": []
    },
    {
      "cell_type": "code",
      "metadata": {
        "execution": {
          "iopub.execute_input": "2021-06-26T16:39:53.570209Z",
          "iopub.status.busy": "2021-06-26T16:39:53.56951Z",
          "iopub.status.idle": "2021-06-26T16:39:53.600458Z",
          "shell.execute_reply": "2021-06-26T16:39:53.599531Z",
          "shell.execute_reply.started": "2021-06-26T16:39:53.569928Z"
        }
      },
      "source": [
        "rf_grid = grid.best_estimator_\n",
        "rf_grid.score(X,y)"
      ],
      "execution_count": null,
      "outputs": []
    },
    {
      "cell_type": "code",
      "metadata": {
        "_kg_hide-input": true,
        "execution": {
          "iopub.execute_input": "2021-06-26T16:39:53.602628Z",
          "iopub.status.busy": "2021-06-26T16:39:53.602028Z",
          "iopub.status.idle": "2021-06-26T16:39:53.613347Z",
          "shell.execute_reply": "2021-06-26T16:39:53.612229Z",
          "shell.execute_reply.started": "2021-06-26T16:39:53.602297Z"
        }
      },
      "source": [
        "from sklearn.metrics import classification_report\n",
        "# Print classification report for y_test\n",
        "print(classification_report(y_test, y_pred, labels=rf_grid.classes_))"
      ],
      "execution_count": null,
      "outputs": []
    },
    {
      "cell_type": "markdown",
      "metadata": {},
      "source": [
        "## Feature Importance"
      ]
    },
    {
      "cell_type": "code",
      "metadata": {
        "_kg_hide-input": true,
        "execution": {
          "iopub.execute_input": "2021-06-26T16:39:53.615537Z",
          "iopub.status.busy": "2021-06-26T16:39:53.614947Z",
          "iopub.status.idle": "2021-06-26T16:39:53.637392Z",
          "shell.execute_reply": "2021-06-26T16:39:53.63647Z",
          "shell.execute_reply.started": "2021-06-26T16:39:53.615192Z"
        }
      },
      "source": [
        "## feature importance\n",
        "feature_importances = pd.DataFrame(rf_grid.feature_importances_,\n",
        "                                   index = column_names,\n",
        "                                    columns=['importance'])\n",
        "feature_importances.sort_values(by='importance', ascending=False).head(10)"
      ],
      "execution_count": null,
      "outputs": []
    },
    {
      "cell_type": "markdown",
      "metadata": {},
      "source": [
        "<h3>Why Random Forest?(Pros and Cons)</h3>\n",
        "\n",
        "---\n",
        "\n",
        "<h2>Introducing Ensemble Learning</h2>\n",
        "In statistics and machine learning, ensemble methods use multiple learning algorithms to obtain better predictive performance than could be obtained from any of the constituent learning algorithms alone.\n",
        "\n",
        "There are two types of ensemple learnings.\n",
        "\n",
        "**Bagging/Averaging Methods**\n",
        "\n",
        "> In averaging methods, the driving principle is to build several estimators independently and then to average their predictions. On average, the combined estimator is usually better than any of the single base estimator because its variance is reduced.\n",
        "\n",
        "**Boosting Methods**\n",
        "\n",
        "> The other family of ensemble methods are boosting methods, where base estimators are built sequentially and one tries to reduce the bias of the combined estimator. The motivation is to combine several weak models to produce a powerful ensemble.\n",
        "\n",
        "<h4 align=\"right\">Source:GA</h4>\n",
        "\n",
        "Resource: <a href=\"https://towardsdatascience.com/ensemble-methods-bagging-boosting-and-stacking-c9214a10a205\">Ensemble methods: bagging, boosting and stacking</a>\n",
        "\n",
        "---\n",
        "\n",
        "## 7g. Bagging Classifier\n",
        "\n",
        "<a id=\"bagging\"></a>\n",
        "\n",
        "---\n",
        "\n",
        "<a href=\"https://scikit-learn.org/stable/modules/generated/sklearn.ensemble.BaggingClassifier.html\">Bagging Classifier</a>(Bootstrap Aggregating) is the ensemble method that involves manipulating the training set by resampling and running algorithms on it. Let's do a quick review:\n",
        "\n",
        "- Bagging classifier uses a process called bootstrapped dataset to create multiple datasets from one original dataset and runs algorithm on each one of them. Here is an image to show how bootstrapped dataset works.\n",
        "<img src=\"https://uc-r.github.io/public/images/analytics/bootstrap/bootstrap.png\" width=\"600\">\n",
        "<h4 align=\"center\">Resampling from original dataset to bootstrapped datasets</h4>\n",
        "<h4 align=\"right\">Source: https://uc-r.github.io</h4>\n",
        "\n",
        "- After running a learning algorithm on each one of the bootstrapped datasets, all models are combined by taking their average. the test data/new data then go through this averaged classifier/combined classifier and predict the output.\n",
        "\n",
        "Here is an image to make it clear on how bagging works,\n",
        "<img src=\"https://prachimjoshi.files.wordpress.com/2015/07/screen_shot_2010-12-03_at_5-46-21_pm.png\" width=\"600\">\n",
        "\n",
        "<h4 align=\"right\">Source: https://prachimjoshi.files.wordpress.com</h4>\n",
        "Please check out [this](https://www.kaggle.com/masumrumi/bagging-with-titanic-dataset) kernel if you want to find out more about bagging classifier."
      ]
    },
    {
      "cell_type": "code",
      "metadata": {
        "execution": {
          "iopub.execute_input": "2021-06-26T16:39:53.639198Z",
          "iopub.status.busy": "2021-06-26T16:39:53.63871Z",
          "iopub.status.idle": "2021-06-26T16:40:17.162923Z",
          "shell.execute_reply": "2021-06-26T16:40:17.162277Z",
          "shell.execute_reply.started": "2021-06-26T16:39:53.638945Z"
        }
      },
      "source": [
        "from sklearn.ensemble import BaggingClassifier\n",
        "n_estimators = [10,30,50,70,80,150,160, 170,175,180,185];\n",
        "cv = StratifiedShuffleSplit(n_splits=10, test_size=.30, random_state=15)\n",
        "\n",
        "parameters = {'n_estimators':n_estimators,\n",
        "\n",
        "        }\n",
        "grid = GridSearchCV(BaggingClassifier(base_estimator= None, ## If None, then the base estimator is a decision tree.\n",
        "                                      bootstrap_features=False),\n",
        "                                 param_grid=parameters,\n",
        "                                 cv=cv,\n",
        "                                 n_jobs = -1)\n",
        "grid.fit(X,y)"
      ],
      "execution_count": null,
      "outputs": []
    },
    {
      "cell_type": "code",
      "metadata": {
        "execution": {
          "iopub.execute_input": "2021-06-26T16:40:17.164621Z",
          "iopub.status.busy": "2021-06-26T16:40:17.164322Z",
          "iopub.status.idle": "2021-06-26T16:40:17.172911Z",
          "shell.execute_reply": "2021-06-26T16:40:17.172302Z",
          "shell.execute_reply.started": "2021-06-26T16:40:17.164559Z"
        }
      },
      "source": [
        "print (grid.best_score_)\n",
        "print (grid.best_params_)\n",
        "print (grid.best_estimator_)"
      ],
      "execution_count": null,
      "outputs": []
    },
    {
      "cell_type": "code",
      "metadata": {
        "execution": {
          "iopub.execute_input": "2021-06-26T16:40:17.174968Z",
          "iopub.status.busy": "2021-06-26T16:40:17.174466Z",
          "iopub.status.idle": "2021-06-26T16:40:17.226122Z",
          "shell.execute_reply": "2021-06-26T16:40:17.225161Z",
          "shell.execute_reply.started": "2021-06-26T16:40:17.174765Z"
        }
      },
      "source": [
        "bagging_grid = grid.best_estimator_\n",
        "bagging_grid.score(X,y)"
      ],
      "execution_count": null,
      "outputs": []
    },
    {
      "cell_type": "markdown",
      "metadata": {},
      "source": [
        "<h3>Why use Bagging? (Pros and cons)</h3>\n",
        "Bagging works best with strong and complex models(for example, fully developed decision trees). However, don't let that fool you to thinking that similar to a decision tree, bagging also overfits the model. Instead, bagging reduces overfitting since a lot of the sample training data are repeated and used to create base estimators. With a lot of equally likely training data, bagging is not very susceptible to overfitting with noisy data, therefore reduces variance. However, the downside is that this leads to an increase in bias.\n",
        "\n",
        "<h4>Random Forest VS. Bagging Classifier</h4>\n",
        "\n",
        "If some of you are like me, you may find Random Forest to be similar to Bagging Classifier. However, there is a fundamental difference between these two which is **Random Forests ability to pick subsets of features in each node.** I will elaborate on this in a future update.\n",
        "\n",
        "## 7h. AdaBoost Classifier\n",
        "\n",
        "<a id=\"AdaBoost\"></a>\n",
        "\n",
        "---\n",
        "\n",
        "AdaBoost is another <b>ensemble model</b> and is quite different than Bagging. Let's point out the core concepts.\n",
        "\n",
        "> AdaBoost combines a lot of \"weak learners\"(they are also called stump; a tree with only one node and two leaves) to make classifications.\n",
        "\n",
        "> This base model fitting is an iterative process where each stump is chained one after the other; <b>It cannot run in parallel.</b>\n",
        "\n",
        "> <b>Some stumps get more say in the final classifications than others.</b> The models use weights that are assigned to each data point/raw indicating their \"importance.\" Samples with higher weight have a higher influence on the total error of the next model and gets more priority. The first stump starts with uniformly distributed weight which means, in the beginning, every datapoint have an equal amount of weights.\n",
        "\n",
        "> <b>Each stump is made by talking the previous stump's mistakes into account.</b> After each iteration weights gets re-calculated in order to take the errors/misclassifications from the last stump into consideration.\n",
        "\n",
        "> The final prediction is typically constructed by a weighted vote where weights for each base model depends on their training errors or misclassification rates.\n",
        "\n",
        "To illustrate what we have talked about so far let's look at the following visualization.\n",
        "\n",
        "<img src=\"https://cdn-images-1.medium.com/max/1600/0*paPv7vXuq4eBHZY7.png\">\n",
        "<h5 align=\"right\"> Source: Diogo(Medium)</h5>\n",
        "\n",
        "Let's dive into each one of the nitty-gritty stuff about AdaBoost:\n",
        "\n",
        "---\n",
        "\n",
        "> <b>First</b>, we determine the best feature to split the dataset using Gini index(basics from decision tree). The feature with the lowest Gini index becomes the first stump in the AdaBoost stump chain(the lower the Gini index is, the better unmixed the label is, therefore, better split).\n",
        "\n",
        "---\n",
        "\n",
        "> <b>Secondly</b>, we need to determine how much say a stump will have in the final classification and how we can calculate that.\n",
        "\n",
        "- We learn how much say a stump has in the final classification by calculating how well it classified the samples (aka calculate the total error of the weight).\n",
        "- The <b>Total Error</b> for a stump is the sum of the weights associated with the incorrectly classified samples. For example, lets say, we start a stump with 10 datasets. The first stump will uniformly distribute an weight amoung all the datapoints. Which means each data point will have 1/10 weight. Let's say once the weight is distributed we run the model and find 2 incorrect predicitons. In order to calculate the total erorr we add up all the misclassified weights. Here we get 1/10 + 1/10 = 2/10 or 1/5. This is our total error. We can also think about it\n",
        "\n",
        "$$ \\epsilon_t = \\frac{\\text{misclassifications}\\_t}{\\text{observations}\\_t} $$\n",
        "\n",
        "- Since the weight is uniformly distributed(all add up to 1) among all data points, the total error will always be between 0(perfect stump) and 1(horrible stump).\n",
        "- We use the total error to determine the amount of say a stump has in the final classification using the following formula\n",
        "\n",
        "$$ \\alpha_t = \\frac{1}{2}ln \\left(\\frac{1-\\epsilon_t}{\\epsilon_t}\\right) \\text{where } \\epsilon_t < 1$$\n",
        "\n",
        "Where $\\epsilon_t$ is the misclassification rate for the current classifier:\n",
        "\n",
        "$$ \\epsilon_t = \\frac{\\text{misclassifications}\\_t}{\\text{observations}\\_t} $$\n",
        "\n",
        "Here...\n",
        "\n",
        "- $\\alpha_t$ = Amount of Say\n",
        "- $\\epsilon_t$ = Total error\n",
        "\n",
        "We can draw a graph to determine the amount of say using the value of total error(0 to 1)\n",
        "\n",
        "<img src=\"http://chrisjmccormick.files.wordpress.com/2013/12/adaboost_alphacurve.png\">\n",
        "<h5 align=\"right\"> Source: Chris McCormick</h5>\n",
        "\n",
        "- The blue line tells us the amount of say for <b>Total Error(Error rate)</b> between 0 and 1.\n",
        "- When the stump does a reasonably good job, and the <b>total error</b> is minimal, then the <b>amount of say(Alpha)</b> is relatively large, and the alpha value is positive.\n",
        "- When the stump does an average job(similar to a coin flip/the ratio of getting correct and incorrect ~50%/50%), then the <b>total error</b> is ~0.5. In this case the <b>amount of say</b> is <b>0</b>.\n",
        "- When the error rate is high let's say close to 1, then the <b>amount of say</b> will be negative, which means if the stump outputs a value as \"survived\" the included weight will turn that value into \"not survived.\"\n",
        "\n",
        "P.S. If the <b>Total Error</b> is 1 or 0, then this equation will freak out. A small amount of error is added to prevent this from happening.\n",
        "\n",
        "---\n",
        "\n",
        "> <b>Third</b>, We need to learn how to modify the weights so that the next stump will take the errors that the current stump made into account. The pseducode for calculating the new sample weight is as follows.\n",
        "\n",
        "$$ New Sample Weight = Sample Weight + e^{\\alpha_t}$$\n",
        "\n",
        "Here the $\\alpha_t(AmountOfSay)$ can be positive or negative depending whether the sample was correctly classified or misclassified by the current stump. We want to increase the sample weight of the misclassified samples; hinting the next stump to put more emphasize on those. Inversely, we want to decrease the sample weight of the correctly classified samples; hinting the next stump to put less emphasize on those.\n",
        "\n",
        "The following equation help us to do this calculation.\n",
        "\n",
        "$$ D\\_{t+1}(i) = D_t(i) e^{-\\alpha_t y_i h_t(x_i)} $$\n",
        "\n",
        "Here,\n",
        "\n",
        "- $D_{t+1}(i)$ = New Sample Weight.\n",
        "- $D_t(i)$ = Current Sample weight.\n",
        "- $\\alpha_t$ = Amount of Say, alpha value, this is the coefficient that gets updated in each iteration and\n",
        "- $y_i h_t(x_i)$ = place holder for 1 if stump correctly classified, -1 if misclassified.\n",
        "\n",
        "Finally, we put together the combined classifier, which is\n",
        "\n",
        "$$ AdaBoost(X) = sign\\left(\\sum\\_{t=1}^T\\alpha_t h_t(X)\\right) $$\n",
        "\n",
        "Here,\n",
        "\n",
        "$AdaBoost(X)$ is the classification predictions for $y$ using predictor matrix $X$\n",
        "\n",
        "$T$ is the set of \"weak learners\"\n",
        "\n",
        "$\\alpha_t$ is the contribution weight for weak learner $t$\n",
        "\n",
        "$h_t(X)$ is the prediction of weak learner $t$\n",
        "\n",
        "and $y$ is binary **with values -1 and 1**\n",
        "\n",
        "P.S. Since the stump barely captures essential specs about the dataset, the model is highly biased in the beginning. However, as the chain of stumps continues and at the end of the process, AdaBoost becomes a strong tree and reduces both bias and variance.\n",
        "\n",
        "<h3>Resources:</h3>\n",
        "<ul>\n",
        "    <li><a href=\"https://www.youtube.com/watch?v=LsK-xG1cLYA\">Statquest</a></li>\n",
        "    <li><a href=\"https://www.youtube.com/watch?v=-DUxtdeCiB4\">Principles of Machine Learning | AdaBoost(Video)</a></li>\n",
        "</ul>"
      ]
    },
    {
      "cell_type": "code",
      "metadata": {
        "execution": {
          "iopub.execute_input": "2021-06-26T16:40:17.227822Z",
          "iopub.status.busy": "2021-06-26T16:40:17.227396Z",
          "iopub.status.idle": "2021-06-26T16:41:28.311627Z",
          "shell.execute_reply": "2021-06-26T16:41:28.311009Z",
          "shell.execute_reply.started": "2021-06-26T16:40:17.227656Z"
        }
      },
      "source": [
        "from sklearn.ensemble import AdaBoostClassifier\n",
        "n_estimators = [100,140,145,150,160, 170,175,180,185];\n",
        "cv = StratifiedShuffleSplit(n_splits=10, test_size=.30, random_state=15)\n",
        "learning_r = [0.1,1,0.01,0.5]\n",
        "\n",
        "parameters = {'n_estimators':n_estimators,\n",
        "              'learning_rate':learning_r\n",
        "\n",
        "        }\n",
        "grid = GridSearchCV(AdaBoostClassifier(base_estimator= None, ## If None, then the base estimator is a decision tree.\n",
        "                                     ),\n",
        "                                 param_grid=parameters,\n",
        "                                 cv=cv,\n",
        "                                 n_jobs = -1)\n",
        "grid.fit(X,y)"
      ],
      "execution_count": null,
      "outputs": []
    },
    {
      "cell_type": "code",
      "metadata": {
        "execution": {
          "iopub.execute_input": "2021-06-26T16:41:28.313135Z",
          "iopub.status.busy": "2021-06-26T16:41:28.31287Z",
          "iopub.status.idle": "2021-06-26T16:41:28.318909Z",
          "shell.execute_reply": "2021-06-26T16:41:28.318191Z",
          "shell.execute_reply.started": "2021-06-26T16:41:28.313088Z"
        }
      },
      "source": [
        "print (grid.best_score_)\n",
        "print (grid.best_params_)\n",
        "print (grid.best_estimator_)"
      ],
      "execution_count": null,
      "outputs": []
    },
    {
      "cell_type": "code",
      "metadata": {
        "execution": {
          "iopub.execute_input": "2021-06-26T16:41:28.320845Z",
          "iopub.status.busy": "2021-06-26T16:41:28.320267Z",
          "iopub.status.idle": "2021-06-26T16:41:28.35912Z",
          "shell.execute_reply": "2021-06-26T16:41:28.358535Z",
          "shell.execute_reply.started": "2021-06-26T16:41:28.320797Z"
        }
      },
      "source": [
        "adaBoost_grid = grid.best_estimator_\n",
        "adaBoost_grid.score(X,y)"
      ],
      "execution_count": null,
      "outputs": []
    },
    {
      "cell_type": "markdown",
      "metadata": {},
      "source": [
        "## Pros and cons of boosting\n",
        "\n",
        "---\n",
        "\n",
        "### Pros\n",
        "\n",
        "- Achieves higher performance than bagging when hyper-parameters tuned properly.\n",
        "- Can be used for classification and regression equally well.\n",
        "- Easily handles mixed data types.\n",
        "- Can use \"robust\" loss functions that make the model resistant to outliers.\n",
        "\n",
        "---\n",
        "\n",
        "### Cons\n",
        "\n",
        "- Difficult and time consuming to properly tune hyper-parameters.\n",
        "- Cannot be parallelized like bagging (bad scalability when huge amounts of data).\n",
        "- More risk of overfitting compared to bagging.\n",
        "\n",
        "<h3>Resources: </h3>\n",
        "<ul>\n",
        "    <li><a href=\"http://mccormickml.com/2013/12/13/adaboost-tutorial/\">AdaBoost Tutorial-Chris McCormick</a></li>\n",
        "    <li><a href=\"http://rob.schapire.net/papers/explaining-adaboost.pdf\">Explaining AdaBoost by Robert Schapire(One of the original author of AdaBoost)</a></li>\n",
        "</ul>\n",
        "\n",
        "## 7i. Gradient Boosting Classifier\n",
        "\n",
        "<a id=\"gradient_boosting\"></a>\n",
        "\n",
        "---"
      ]
    },
    {
      "cell_type": "code",
      "metadata": {
        "_cell_guid": "d32d6df9-b8e7-4637-bacc-2baec08547b8",
        "_uuid": "fd788c4f4cde834a1329f325f1f59e3f77c37e42",
        "execution": {
          "iopub.execute_input": "2021-06-26T16:41:28.360536Z",
          "iopub.status.busy": "2021-06-26T16:41:28.360265Z",
          "iopub.status.idle": "2021-06-26T16:41:28.521396Z",
          "shell.execute_reply": "2021-06-26T16:41:28.520426Z",
          "shell.execute_reply.started": "2021-06-26T16:41:28.360479Z"
        },
        "scrolled": true
      },
      "source": [
        "# Gradient Boosting Classifier\n",
        "from sklearn.ensemble import GradientBoostingClassifier\n",
        "\n",
        "gradient_boost = GradientBoostingClassifier()\n",
        "gradient_boost.fit(X, y)\n",
        "y_pred = gradient_boost.predict(X_test)\n",
        "gradient_accy = round(accuracy_score(y_pred, y_test), 3)\n",
        "print(gradient_accy)"
      ],
      "execution_count": null,
      "outputs": []
    },
    {
      "cell_type": "markdown",
      "metadata": {},
      "source": [
        "<div class=\" alert alert-info\">\n",
        "<h3>Resources: </h3>\n",
        "<ul>\n",
        "    <li><a href=\"https://www.youtube.com/watch?v=sDv4f4s2SB8\">Gradient Descent(StatQuest)</a></li>\n",
        "    <li><a href=\"https://www.youtube.com/watch?v=3CC4N4z3GJc\">Gradient Boost(Regression Main Ideas)(StatQuest)</a></li>\n",
        "    <li><a href=\"https://www.youtube.com/watch?v=3CC4N4z3GJc\">Gradient Boost(Regression Calculation)(StatQuest)</a></li>\n",
        "    <li><a href=\"https://www.youtube.com/watch?v=jxuNLH5dXCs\">Gradient Boost(Classification Main Ideas)(StatQuest)</a></li>\n",
        "    <li><a href=\"https://www.youtube.com/watch?v=StWY5QWMXCw\">Gradient Boost(Classification Calculation)(StatQuest)</a></li>\n",
        "    <li><a href=\"https://www.analyticsvidhya.com/blog/2016/02/complete-guide-parameter-tuning-gradient-boosting-gbm-python/\">Complete Machine Learning Guide to Parameter Tuning in Gradient Boosting (GBM) in Python</a></li>\n",
        "</ul>\n",
        "</div>\n",
        "\n",
        "## 7j. XGBClassifier\n",
        "\n",
        "<a id=\"XGBClassifier\"></a>\n",
        "\n",
        "---"
      ]
    },
    {
      "cell_type": "code",
      "metadata": {
        "_cell_guid": "5d94cc5b-d8b7-40d3-b264-138539daabfa",
        "_uuid": "9d96154d2267ea26a6682a73bd1850026eb1303b",
        "execution": {
          "iopub.execute_input": "2021-06-26T16:41:28.523177Z",
          "iopub.status.busy": "2021-06-26T16:41:28.522724Z",
          "iopub.status.idle": "2021-06-26T16:41:28.526955Z",
          "shell.execute_reply": "2021-06-26T16:41:28.525945Z",
          "shell.execute_reply.started": "2021-06-26T16:41:28.522964Z"
        }
      },
      "source": [
        "# from xgboost import XGBClassifier\n",
        "# XGBClassifier = XGBClassifier()\n",
        "# XGBClassifier.fit(X, y)\n",
        "# y_pred = XGBClassifier.predict(X_test)\n",
        "# XGBClassifier_accy = round(accuracy_score(y_pred, y_test), 3)\n",
        "# print(XGBClassifier_accy)"
      ],
      "execution_count": null,
      "outputs": []
    },
    {
      "cell_type": "markdown",
      "metadata": {},
      "source": [
        "## 7k. Extra Trees Classifier\n",
        "\n",
        "<a id=\"extra_tree\"></a>\n",
        "\n",
        "---"
      ]
    },
    {
      "cell_type": "code",
      "metadata": {
        "_cell_guid": "2e567e01-6b5f-4313-84af-cc378c3b709e",
        "_uuid": "c9b958e2488adf6f79401c677087e3250d63ac9b",
        "execution": {
          "iopub.execute_input": "2021-06-26T16:41:28.528841Z",
          "iopub.status.busy": "2021-06-26T16:41:28.528382Z",
          "iopub.status.idle": "2021-06-26T16:41:28.555697Z",
          "shell.execute_reply": "2021-06-26T16:41:28.554889Z",
          "shell.execute_reply.started": "2021-06-26T16:41:28.528664Z"
        }
      },
      "source": [
        "from sklearn.ensemble import ExtraTreesClassifier\n",
        "ExtraTreesClassifier = ExtraTreesClassifier()\n",
        "ExtraTreesClassifier.fit(X, y)\n",
        "y_pred = ExtraTreesClassifier.predict(X_test)\n",
        "extraTree_accy = round(accuracy_score(y_pred, y_test), 3)\n",
        "print(extraTree_accy)"
      ],
      "execution_count": null,
      "outputs": []
    },
    {
      "cell_type": "markdown",
      "metadata": {},
      "source": [
        "## 7l. Gaussian Process Classifier\n",
        "\n",
        "<a id=\"GaussianProcessClassifier\"></a>\n",
        "\n",
        "---"
      ]
    },
    {
      "cell_type": "code",
      "metadata": {
        "_cell_guid": "23bd5744-e04d-49bb-9d70-7c2a518f76dd",
        "_uuid": "57fc008eea2ce1c0b595f888a82ddeaee6ce2177",
        "execution": {
          "iopub.execute_input": "2021-06-26T16:41:28.557268Z",
          "iopub.status.busy": "2021-06-26T16:41:28.556845Z",
          "iopub.status.idle": "2021-06-26T16:41:28.863352Z",
          "shell.execute_reply": "2021-06-26T16:41:28.862576Z",
          "shell.execute_reply.started": "2021-06-26T16:41:28.557221Z"
        }
      },
      "source": [
        "from sklearn.gaussian_process import GaussianProcessClassifier\n",
        "GaussianProcessClassifier = GaussianProcessClassifier()\n",
        "GaussianProcessClassifier.fit(X, y)\n",
        "y_pred = GaussianProcessClassifier.predict(X_test)\n",
        "gau_pro_accy = round(accuracy_score(y_pred, y_test), 3)\n",
        "print(gau_pro_accy)"
      ],
      "execution_count": null,
      "outputs": []
    },
    {
      "cell_type": "markdown",
      "metadata": {},
      "source": [
        "## 7m. Voting Classifier\n",
        "\n",
        "<a id=\"voting_classifer\"></a>\n",
        "\n",
        "---"
      ]
    },
    {
      "cell_type": "code",
      "metadata": {
        "_cell_guid": "ac208dd3-1045-47bb-9512-de5ecb5c81b0",
        "_uuid": "821c74bbf404193219eb91fe53755d669f5a14d1",
        "execution": {
          "iopub.execute_input": "2021-06-26T16:41:28.865063Z",
          "iopub.status.busy": "2021-06-26T16:41:28.86463Z",
          "iopub.status.idle": "2021-06-26T16:41:30.314425Z",
          "shell.execute_reply": "2021-06-26T16:41:30.313671Z",
          "shell.execute_reply.started": "2021-06-26T16:41:28.865013Z"
        }
      },
      "source": [
        "from sklearn.ensemble import VotingClassifier\n",
        "\n",
        "voting_classifier = VotingClassifier(estimators=[\n",
        "    ('lr_grid', logreg_grid),\n",
        "    ('svc', svm_grid),\n",
        "    ('random_forest', rf_grid),\n",
        "    ('gradient_boosting', gradient_boost),\n",
        "    ('decision_tree_grid',dectree_grid),\n",
        "    ('knn_classifier', knn_grid),\n",
        "#     ('XGB_Classifier', XGBClassifier),\n",
        "    ('bagging_classifier', bagging_grid),\n",
        "    ('adaBoost_classifier',adaBoost_grid),\n",
        "    ('ExtraTrees_Classifier', ExtraTreesClassifier),\n",
        "    ('gaussian_classifier',gaussian),\n",
        "    ('gaussian_process_classifier', GaussianProcessClassifier)\n",
        "],voting='hard')\n",
        "\n",
        "#voting_classifier = voting_classifier.fit(train_x,train_y)\n",
        "voting_classifier = voting_classifier.fit(X,y)"
      ],
      "execution_count": null,
      "outputs": []
    },
    {
      "cell_type": "code",
      "metadata": {
        "_cell_guid": "648ac6a6-2437-490a-bf76-1612a71126e8",
        "_uuid": "518a02ae91cc91d618e476d1fc643cd3912ee5fb",
        "execution": {
          "iopub.execute_input": "2021-06-26T16:41:30.316454Z",
          "iopub.status.busy": "2021-06-26T16:41:30.316008Z",
          "iopub.status.idle": "2021-06-26T16:41:30.42114Z",
          "shell.execute_reply": "2021-06-26T16:41:30.420152Z",
          "shell.execute_reply.started": "2021-06-26T16:41:30.31627Z"
        }
      },
      "source": [
        "y_pred = voting_classifier.predict(X_test)\n",
        "voting_accy = round(accuracy_score(y_pred, y_test), 3)\n",
        "print(voting_accy)"
      ],
      "execution_count": null,
      "outputs": []
    },
    {
      "cell_type": "code",
      "metadata": {
        "_cell_guid": "277534eb-7ec8-4359-a2f4-30f7f76611b8",
        "_kg_hide-input": true,
        "_uuid": "00a9b98fd4e230db427a63596a2747f05b1654c1",
        "execution": {
          "iopub.execute_input": "2021-06-26T16:41:30.422908Z",
          "iopub.status.busy": "2021-06-26T16:41:30.422475Z",
          "iopub.status.idle": "2021-06-26T16:41:30.426856Z",
          "shell.execute_reply": "2021-06-26T16:41:30.425882Z",
          "shell.execute_reply.started": "2021-06-26T16:41:30.422736Z"
        }
      },
      "source": [
        "#models = pd.DataFrame({\n",
        "#    'Model': ['Support Vector Machines', 'KNN', 'Logistic Regression',\n",
        "#              'Random Forest', 'Naive Bayes',\n",
        "#              'Decision Tree', 'Gradient Boosting Classifier', 'Voting Classifier', 'XGB Classifier','ExtraTrees Classifier','Bagging Classifier'],\n",
        "#    'Score': [svc_accy, knn_accy, logreg_accy,\n",
        "#              random_accy, gaussian_accy, dectree_accy,\n",
        "#               gradient_accy, voting_accy, XGBClassifier_accy, extraTree_accy, bagging_accy]})\n",
        "#models.sort_values(by='Score', ascending=False)"
      ],
      "execution_count": null,
      "outputs": []
    },
    {
      "cell_type": "markdown",
      "metadata": {},
      "source": [
        "# Part 8: Submit test predictions\n",
        "\n",
        "<a id=\"submit_predictions\"></a>\n",
        "\n",
        "---"
      ]
    },
    {
      "cell_type": "code",
      "metadata": {
        "_uuid": "eb0054822f296ba86aa6005b2a5e35fbc1aec88b",
        "execution": {
          "iopub.execute_input": "2021-06-26T16:41:30.429099Z",
          "iopub.status.busy": "2021-06-26T16:41:30.42862Z",
          "iopub.status.idle": "2021-06-26T16:41:30.646363Z",
          "shell.execute_reply": "2021-06-26T16:41:30.645616Z",
          "shell.execute_reply.started": "2021-06-26T16:41:30.428903Z"
        }
      },
      "source": [
        "all_models = [logreg_grid,\n",
        "              knn_grid,\n",
        "              knn_ran_grid,\n",
        "              svm_grid,\n",
        "              dectree_grid,\n",
        "              rf_grid,\n",
        "              bagging_grid,\n",
        "              adaBoost_grid,\n",
        "              voting_classifier]\n",
        "\n",
        "c = {}\n",
        "for i in all_models:\n",
        "    a = i.predict(X_test)\n",
        "    b = accuracy_score(a, y_test)\n",
        "    c[i] = b"
      ],
      "execution_count": null,
      "outputs": []
    },
    {
      "cell_type": "code",
      "metadata": {
        "_cell_guid": "51368e53-52e4-41cf-9cc9-af6164c9c6f5",
        "_uuid": "b947f168f6655c1c6eadaf53f3485d57c0cd74c7",
        "execution": {
          "iopub.execute_input": "2021-06-26T16:41:30.648318Z",
          "iopub.status.busy": "2021-06-26T16:41:30.647987Z",
          "iopub.status.idle": "2021-06-26T16:41:32.045557Z",
          "shell.execute_reply": "2021-06-26T16:41:32.044733Z",
          "shell.execute_reply.started": "2021-06-26T16:41:30.648259Z"
        }
      },
      "source": [
        "test_prediction = (max(c, key=c.get)).predict(test)\n",
        "submission = pd.DataFrame({\n",
        "        \"PassengerId\": passengerid,\n",
        "        \"Survived\": test_prediction\n",
        "    })\n",
        "\n",
        "submission.PassengerId = submission.PassengerId.astype(int)\n",
        "submission.Survived = submission.Survived.astype(int)\n",
        "\n",
        "submission.to_csv(\"titanic1_submission.csv\", index=False)"
      ],
      "execution_count": null,
      "outputs": []
    },
    {
      "cell_type": "markdown",
      "metadata": {},
      "source": [
        "<div class=\"alert alert-info\">\n",
        "    <h1>Resources</h1>\n",
        "    <ul>\n",
        "        <li><b>Statistics</b></li>\n",
        "        <ul>\n",
        "            <li><a href=\"https://statistics.laerd.com/statistical-guides/measures-of-spread-standard-deviation.php\">Types of Standard Deviation</a></li>\n",
        "            <li><a href=\"https://blog.minitab.com/blog/statistics-and-quality-data-analysis/what-is-a-t-test-and-why-is-it-like-telling-a-kid-to-clean-up-that-mess-in-the-kitchen\">What Is a t-test? And Why Is It Like Telling a Kid to Clean Up that Mess in the Kitchen?</a></li>\n",
        "            <li><a href=\"https://blog.minitab.com/blog/statistics-and-quality-data-analysis/what-are-t-values-and-p-values-in-statistics\">What Are T Values and P Values in Statistics?</a></li>\n",
        "            <li><a href=\"https://www.youtube.com/watch?v=E4KCfcVwzyw\">What is p-value? How we decide on our confidence level.</a></li>\n",
        "        </ul>\n",
        "        <li><b>Writing pythonic code</b></li>\n",
        "        <ul>\n",
        "            <li><a href=\"https://www.kaggle.com/rtatman/six-steps-to-more-professional-data-science-code\">Six steps to more professional data science code</a></li>\n",
        "            <li><a href=\"https://www.kaggle.com/jpmiller/creating-a-good-analytics-report\">Creating a Good Analytics Report</a></li>\n",
        "            <li><a href=\"https://en.wikipedia.org/wiki/Code_smell\">Code Smell</a></li>\n",
        "            <li><a href=\"https://www.python.org/dev/peps/pep-0008/\">Python style guides</a></li>\n",
        "            <li><a href=\"https://gist.github.com/sloria/7001839\">The Best of the Best Practices(BOBP) Guide for Python</a></li>\n",
        "            <li><a href=\"https://www.python.org/dev/peps/pep-0020/\">PEP 20 -- The Zen of Python</a></li>\n",
        "            <li><a href=\"https://docs.python-guide.org/\">The Hitchiker's Guide to Python</a></li>\n",
        "            <li><a href=\"https://realpython.com/tutorials/best-practices/\">Python Best Practice Patterns</a></li>\n",
        "            <li><a href=\"http://www.nilunder.com/blog/2013/08/03/pythonic-sensibilities/\">Pythonic Sensibilities</a></li>\n",
        "        </ul>\n",
        "        <li><b>Why Scikit-Learn?</b></li>\n",
        "        <ul>\n",
        "            <li><a href=\"https://www.oreilly.com/content/intro-to-scikit-learn/\">Introduction to Scikit-Learn</a></li>\n",
        "            <li><a href=\"https://www.oreilly.com/content/six-reasons-why-i-recommend-scikit-learn/\">Six reasons why I recommend scikit-learn</a></li>\n",
        "            <li><a href=\"https://hub.packtpub.com/learn-scikit-learn/\">Why you should learn Scikit-learn</a></li>\n",
        "            <li><a href=\"https://www.kaggle.com/baghern/a-deep-dive-into-sklearn-pipelines\">A Deep Dive Into Sklearn Pipelines</a></li>\n",
        "            <li><a href=\"https://www.kaggle.com/sermakarevich/sklearn-pipelines-tutorial\">Sklearn pipelines tutorial</a></li>\n",
        "            <li><a href=\"https://www.kdnuggets.com/2017/12/managing-machine-learning-workflows-scikit-learn-pipelines-part-1.html\">Managing Machine Learning workflows with Sklearn pipelines</a></li>\n",
        "            <li><a href=\"https://towardsdatascience.com/a-simple-example-of-pipeline-in-machine-learning-with-scikit-learn-e726ffbb6976\">A simple example of pipeline in Machine Learning using SKlearn</a></li>\n",
        "        </ul>\n",
        "    </ul>\n",
        "    <h1>Credits</h1>\n",
        "    <ul>\n",
        "        <li>To Brandon Foltz for his <a href=\"https://www.youtube.com/channel/UCFrjdcImgcQVyFbK04MBEhA\">youtube</a> channel and for being an amazing teacher.</li>\n",
        "        <li>To GA where I started my data science journey.</li>\n",
        "        <li>To Kaggle community for inspiring me over and over again with all the resources I need.</li>\n",
        "        <li>To Udemy Course \"Deployment of Machine Learning\". I have used and modified some of the code from this course to help making the learning process intuitive.</li>\n",
        "    </ul>\n",
        "</div>\n",
        "\n",
        "<div class=\"alert alert-info\">\n",
        "<h4>If you like to discuss any other projects or just have a chat about data science topics, I'll be more than happy to connect with you on:</h4>\n",
        "    <ul>\n",
        "        <li><a href=\"https://www.linkedin.com/in/masumrumi/\"><b>LinkedIn</b></a></li>\n",
        "        <li><a href=\"https://github.com/masumrumi\"><b>Github</b></a></li>\n",
        "        <li><a href=\"https://masumrumi.github.io/cv/\"><b>masumrumi.github.io/cv/</b></a></li>\n",
        "        <li><a href=\"https://www.youtube.com/channel/UC1mPjGyLcZmsMgZ8SJgrfdw\"><b>Youtube</b></a></li>\n",
        "    </ul>\n",
        "\n",
        "<p>This kernel will always be a work in progress. I will incorporate new concepts of data science as I comprehend them with each update. If you have any idea/suggestions about this notebook, please let me know. Any feedback about further improvements would be genuinely appreciated.</p>\n",
        "\n",
        "<h1>If you have come this far, Congratulations!!</h1>\n",
        "\n",
        "<h1>If this notebook helped you in any way or you liked it, please upvote and/or leave a comment!! :)</h1></div>"
      ]
    }
  ],
  "metadata": {
    "kernelspec": {
      "name": "julia-1.11",
      "language": "julia",
      "display_name": "Julia 1.11.5",
      "path": "C:\\Users\\Fabrizio\\AppData\\Roaming\\jupyter\\kernels\\julia-1.11"
    }
  },
  "nbformat": 4,
  "nbformat_minor": 4
}